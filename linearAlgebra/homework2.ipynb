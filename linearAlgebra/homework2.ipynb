{
 "cells": [
  {
   "cell_type": "code",
   "execution_count": 1,
   "id": "71006b18",
   "metadata": {},
   "outputs": [
    {
     "name": "stdout",
     "output_type": "stream",
     "text": [
      "2\n",
      "1\n"
     ]
    }
   ],
   "source": [
    "'''1. Implement the function S = IsSquare(A) that checks the dimension of input matrix A, \n",
    "and returns 1 if the input matrix is square and 0 otherwise'''\n",
    "import numpy as np \n",
    "def IsSquare(A):\n",
    "    arr = np.array(A) # if user input list convert it into numpy array \n",
    "    #comapare row of shape with shape of coloumns count from last index incase user enter matrix more  than 2 dim\n",
    "    if arr.shape[-2] ==arr.shape[-1]: \n",
    "        return 1\n",
    "    else :\n",
    "        return 0\n",
    "\n",
    "nn =np.array([[1,2],[3,4]])\n",
    "print(nn.shape[-2])\n",
    "IsSquare(nn)\n",
    "print(nn[0,0])"
   ]
  },
  {
   "cell_type": "code",
   "execution_count": 2,
   "id": "a89b7054",
   "metadata": {},
   "outputs": [
    {
     "name": "stdout",
     "output_type": "stream",
     "text": [
      "rank = 2\n",
      "matrix detrminant = -2.0000000000000004\n"
     ]
    },
    {
     "data": {
      "text/plain": [
       "1"
      ]
     },
     "execution_count": 2,
     "metadata": {},
     "output_type": "execute_result"
    }
   ],
   "source": [
    "'''2. Implement the function N = Props(A) that checks the properties of the input matrix A:\n",
    "2.1 checks the input matrix is square,\n",
    "2.2 computes the matrix rank, prints the rank value (hint: use numpy method)\n",
    "2.3 computes the matrix determinant (hint: use numpy method) and prints its value\n",
    "2.4 returns 1 if the input matrix has rank = no. of rows in matrix A and 0 otherwise\n",
    "'''\n",
    "def Props(A) :\n",
    "    A = np.array(A) # if user input list convert it into numpy array \n",
    "    rank = 0\n",
    "    if IsSquare(A) :\n",
    "        rank = np.linalg.matrix_rank(A)\n",
    "        print(f'rank = {rank}')\n",
    "        print(f'matrix detrminant = {np.linalg.det(A)}')\n",
    "        if A.shape[-2]  == rank :\n",
    "            return 1\n",
    "        else :\n",
    "            print(\"matrix rank not equal no. row\")\n",
    "            return 0 \n",
    "    else :\n",
    "        print('matrix not square')\n",
    "        return 0\n",
    "    \n",
    "Props(nn)"
   ]
  },
  {
   "cell_type": "code",
   "execution_count": 3,
   "id": "334deb25",
   "metadata": {},
   "outputs": [
    {
     "name": "stdout",
     "output_type": "stream",
     "text": [
      "rank = 3\n",
      "matrix detrminant = 5.35\n",
      "------------------------------\n",
      "rank = 2\n",
      "matrix detrminant = 0.0\n",
      "matrix rank not equal no. row\n"
     ]
    },
    {
     "data": {
      "text/plain": [
       "0"
      ]
     },
     "execution_count": 3,
     "metadata": {},
     "output_type": "execute_result"
    }
   ],
   "source": [
    "'''\n",
    "3. Compose the equations corresponding to the two word-problems below \n",
    "and put them in matrix-vector form AX = B. Call \"Props\" to find more about their properties.\n",
    "'''\n",
    "\n",
    "#System 1:\n",
    "#['sunflowers','roses' ,'daisies' ]\n",
    "A=np.array([[1,1,1],[1.50,5.75,2.60],[0,-1,1]],dtype=np.float64)\n",
    "B=np.array([200,589.5,20],dtype=np.float64).reshape(-1,1)\n",
    "Props(A)\n",
    "#System 2:\n",
    "#['potatoes','chicken','oil','price']\n",
    "print('------------------------------')\n",
    "A2=np.array([[2,1,3],[4,2,6],[1,1,-1]],dtype=np.float64)\n",
    "B2=np.array([0,0,0],dtype=np.float64).reshape(-1,1)\n",
    "Props(A2)"
   ]
  },
  {
   "cell_type": "code",
   "execution_count": 4,
   "id": "c446f375",
   "metadata": {},
   "outputs": [],
   "source": [
    "'''\n",
    "4. Implement the function reducerow(C,pivotrow(row index),targetrow(row index),pivot(index))\n",
    "4.1 Takes an input matrix C, index of a pivot row vector, index of a target row vector, index of a pivot element. It returns nothing but overrides the matrix C\n",
    "4.2 Checks if the pivot element = 1 otherwise perform vector operation to make it = 1\n",
    "4.3 Uses vector operations using the two vectors “pivotrow” & “targetrow” to make the element corresponding to the pivot element in the targetrow vector = 0\n",
    "'''\n",
    "def reducerow(C,pivotrow,targetrow,pivot) :\n",
    "    pivot_element =C[pivotrow,pivot]\n",
    "    if pivot_element != 1 :\n",
    "        C[pivotrow,pivot : ] /=pivot_element  #make pivot equal to 1\n",
    "    C[targetrow,:] -= C[targetrow,pivot]*C[pivotrow,:]\n",
    "    return C\n",
    "        "
   ]
  },
  {
   "cell_type": "code",
   "execution_count": 5,
   "id": "6f00d3ea",
   "metadata": {},
   "outputs": [],
   "source": [
    "'''5. Implement the function f = SolveLinearSystem (A,B)\n",
    "5.1 Takes as an input coefficient matrix A and target vector B\n",
    "5.2 Adjoins A and B then perform row reduction operations using “reducerow” trying to convert it A’s columns into an identity matrix\n",
    "5.3 returns f = the summation of A’s columns elements after row reduction'''\n",
    "\n",
    "def solveLinearSystem(A,B):\n",
    "    join_m=np.hstack((A,B))  #make augmented matrix\n",
    "    for i in range(join_m.shape[0]):\n",
    "        for j in range(join_m.shape[0]):\n",
    "            if i!=j:\n",
    "                join_m=reducerow(join_m,i,j,i)\n",
    "   \n",
    "    return join_m"
   ]
  },
  {
   "cell_type": "code",
   "execution_count": 11,
   "id": "68f637a2",
   "metadata": {},
   "outputs": [
    {
     "name": "stdout",
     "output_type": "stream",
     "text": [
      "[[ 1.  0.  0. 80.]\n",
      " [ 0.  1.  0. 50.]\n",
      " [ 0.  0.  1. 70.]]\n",
      "[[nan nan nan nan]\n",
      " [nan nan nan nan]\n",
      " [ 0. nan nan nan]]\n"
     ]
    },
    {
     "name": "stderr",
     "output_type": "stream",
     "text": [
      "C:\\Users\\ahmed\\AppData\\Local\\Temp/ipykernel_856/4280432617.py:10: RuntimeWarning: invalid value encountered in true_divide\n",
      "  C[pivotrow,pivot : ] /=pivot_element  #make pivot equal to 1\n"
     ]
    }
   ],
   "source": [
    "'''6. Call “SolveLinearSystem” to solve the systems 1 and 2 you previously created in 3'''\n",
    "print(solveLinearSystem(A,B))\n",
    "print(solveLinearSystem(A2,B2))"
   ]
  },
  {
   "cell_type": "code",
   "execution_count": 7,
   "id": "86e56c64",
   "metadata": {},
   "outputs": [
    {
     "name": "stdout",
     "output_type": "stream",
     "text": [
      "3.0\n"
     ]
    }
   ],
   "source": [
    "'''7. Elaborate your solution (write commented text)\n",
    "7.1 If f<3 explain the reason and propose one possible solution (if any) to the equation system\n",
    "7.2 otherwise write down the system solution\n",
    "'''\n",
    "f =  np.sum(np.sum(solveLinearSystem(A,B) , axis = 0)[:3])\n",
    "print(f) #if f <3 then there is vector dependent\n"
   ]
  },
  {
   "cell_type": "code",
   "execution_count": 8,
   "id": "7549315d",
   "metadata": {},
   "outputs": [
    {
     "name": "stdout",
     "output_type": "stream",
     "text": [
      "[[80.]\n",
      " [50.]\n",
      " [70.]]\n",
      "False\n"
     ]
    }
   ],
   "source": [
    "'''8. Type these code lines and check your answers for systems 1 and 2\n",
    "x = np.linalg.solve(A, B) # Solves a full-rank system of linear equations ax = b.\n",
    "print(x)\n",
    "np.allclose(np.dot(A, x), B) # Returns True if two arrays are element-wise equal within a tolerance.'''\n",
    "print(np.linalg.solve(A, B))\n",
    "print(np.allclose(np.dot(A,B) , B))\n",
    "#print(np.linalg.solve(A2, B2)) #erroe because of system detrminent equal to zero\n"
   ]
  },
  {
   "cell_type": "code",
   "execution_count": 12,
   "id": "d4987fc6",
   "metadata": {},
   "outputs": [
    {
     "name": "stdout",
     "output_type": "stream",
     "text": [
      "[[ 1.          0.          0.          1.56074766 -0.37383178 -0.58878505]\n",
      " [ 0.          1.          0.         -0.28037383  0.18691589 -0.20560748]\n",
      " [ 0.          0.          1.         -0.28037383  0.18691589  0.79439252]]\n",
      "[[ 1.56074766 -0.37383178 -0.58878505]\n",
      " [-0.28037383  0.18691589 -0.20560748]\n",
      " [-0.28037383  0.18691589  0.79439252]]\n",
      "[[nan nan nan]\n",
      " [nan nan nan]\n",
      " [nan nan nan]]\n"
     ]
    },
    {
     "name": "stderr",
     "output_type": "stream",
     "text": [
      "C:\\Users\\ahmed\\AppData\\Local\\Temp/ipykernel_856/4280432617.py:10: RuntimeWarning: divide by zero encountered in true_divide\n",
      "  C[pivotrow,pivot : ] /=pivot_element  #make pivot equal to 1\n",
      "C:\\Users\\ahmed\\AppData\\Local\\Temp/ipykernel_856/4280432617.py:10: RuntimeWarning: invalid value encountered in true_divide\n",
      "  C[pivotrow,pivot : ] /=pivot_element  #make pivot equal to 1\n"
     ]
    }
   ],
   "source": [
    "'''9. Call the same function “SolveLinearSystem” to get inv(A) for systems 1 and 2'''\n",
    "identity_array= np.array([[1,0,0],[0,1,0],[0,0,1]])\n",
    "#AI = A    ,   A^-1 A I=  A^-1 A  ,  I = A^-1    ,    \n",
    "print(solveLinearSystem(A,identity_array)) # build augmanted matrix  [A|I]\n",
    "print(solveLinearSystem(A,identity_array)[:,3:])\n",
    "print(solveLinearSystem(A2,identity_array)[:,3:]) #detrimnent = 0 so there is no inverse"
   ]
  },
  {
   "cell_type": "code",
   "execution_count": 13,
   "id": "e741597b",
   "metadata": {},
   "outputs": [
    {
     "name": "stdout",
     "output_type": "stream",
     "text": [
      "[[ 1.56074766 -0.37383178 -0.58878505]\n",
      " [-0.28037383  0.18691589 -0.20560748]\n",
      " [-0.28037383  0.18691589  0.79439252]]\n"
     ]
    },
    {
     "ename": "LinAlgError",
     "evalue": "Singular matrix",
     "output_type": "error",
     "traceback": [
      "\u001b[1;31m---------------------------------------------------------------------------\u001b[0m",
      "\u001b[1;31mLinAlgError\u001b[0m                               Traceback (most recent call last)",
      "\u001b[1;32m~\\AppData\\Local\\Temp/ipykernel_856/3224595433.py\u001b[0m in \u001b[0;36m<module>\u001b[1;34m\u001b[0m\n\u001b[0;32m      1\u001b[0m \u001b[1;34m'''10. Check your solution if possible using np.linalg.inv() function'''\u001b[0m\u001b[1;33m\u001b[0m\u001b[1;33m\u001b[0m\u001b[0m\n\u001b[0;32m      2\u001b[0m \u001b[0mprint\u001b[0m\u001b[1;33m(\u001b[0m\u001b[0mnp\u001b[0m\u001b[1;33m.\u001b[0m\u001b[0mlinalg\u001b[0m\u001b[1;33m.\u001b[0m\u001b[0minv\u001b[0m\u001b[1;33m(\u001b[0m\u001b[0mA\u001b[0m\u001b[1;33m)\u001b[0m\u001b[1;33m)\u001b[0m\u001b[1;33m\u001b[0m\u001b[1;33m\u001b[0m\u001b[0m\n\u001b[1;32m----> 3\u001b[1;33m \u001b[0mprint\u001b[0m\u001b[1;33m(\u001b[0m\u001b[0mnp\u001b[0m\u001b[1;33m.\u001b[0m\u001b[0mlinalg\u001b[0m\u001b[1;33m.\u001b[0m\u001b[0minv\u001b[0m\u001b[1;33m(\u001b[0m\u001b[0mA2\u001b[0m\u001b[1;33m)\u001b[0m\u001b[1;33m)\u001b[0m\u001b[1;33m\u001b[0m\u001b[1;33m\u001b[0m\u001b[0m\n\u001b[0m",
      "\u001b[1;32m<__array_function__ internals>\u001b[0m in \u001b[0;36minv\u001b[1;34m(*args, **kwargs)\u001b[0m\n",
      "\u001b[1;32mC:\\ProgramData\\Anaconda3\\lib\\site-packages\\numpy\\linalg\\linalg.py\u001b[0m in \u001b[0;36minv\u001b[1;34m(a)\u001b[0m\n\u001b[0;32m    543\u001b[0m     \u001b[0msignature\u001b[0m \u001b[1;33m=\u001b[0m \u001b[1;34m'D->D'\u001b[0m \u001b[1;32mif\u001b[0m \u001b[0misComplexType\u001b[0m\u001b[1;33m(\u001b[0m\u001b[0mt\u001b[0m\u001b[1;33m)\u001b[0m \u001b[1;32melse\u001b[0m \u001b[1;34m'd->d'\u001b[0m\u001b[1;33m\u001b[0m\u001b[1;33m\u001b[0m\u001b[0m\n\u001b[0;32m    544\u001b[0m     \u001b[0mextobj\u001b[0m \u001b[1;33m=\u001b[0m \u001b[0mget_linalg_error_extobj\u001b[0m\u001b[1;33m(\u001b[0m\u001b[0m_raise_linalgerror_singular\u001b[0m\u001b[1;33m)\u001b[0m\u001b[1;33m\u001b[0m\u001b[1;33m\u001b[0m\u001b[0m\n\u001b[1;32m--> 545\u001b[1;33m     \u001b[0mainv\u001b[0m \u001b[1;33m=\u001b[0m \u001b[0m_umath_linalg\u001b[0m\u001b[1;33m.\u001b[0m\u001b[0minv\u001b[0m\u001b[1;33m(\u001b[0m\u001b[0ma\u001b[0m\u001b[1;33m,\u001b[0m \u001b[0msignature\u001b[0m\u001b[1;33m=\u001b[0m\u001b[0msignature\u001b[0m\u001b[1;33m,\u001b[0m \u001b[0mextobj\u001b[0m\u001b[1;33m=\u001b[0m\u001b[0mextobj\u001b[0m\u001b[1;33m)\u001b[0m\u001b[1;33m\u001b[0m\u001b[1;33m\u001b[0m\u001b[0m\n\u001b[0m\u001b[0;32m    546\u001b[0m     \u001b[1;32mreturn\u001b[0m \u001b[0mwrap\u001b[0m\u001b[1;33m(\u001b[0m\u001b[0mainv\u001b[0m\u001b[1;33m.\u001b[0m\u001b[0mastype\u001b[0m\u001b[1;33m(\u001b[0m\u001b[0mresult_t\u001b[0m\u001b[1;33m,\u001b[0m \u001b[0mcopy\u001b[0m\u001b[1;33m=\u001b[0m\u001b[1;32mFalse\u001b[0m\u001b[1;33m)\u001b[0m\u001b[1;33m)\u001b[0m\u001b[1;33m\u001b[0m\u001b[1;33m\u001b[0m\u001b[0m\n\u001b[0;32m    547\u001b[0m \u001b[1;33m\u001b[0m\u001b[0m\n",
      "\u001b[1;32mC:\\ProgramData\\Anaconda3\\lib\\site-packages\\numpy\\linalg\\linalg.py\u001b[0m in \u001b[0;36m_raise_linalgerror_singular\u001b[1;34m(err, flag)\u001b[0m\n\u001b[0;32m     86\u001b[0m \u001b[1;33m\u001b[0m\u001b[0m\n\u001b[0;32m     87\u001b[0m \u001b[1;32mdef\u001b[0m \u001b[0m_raise_linalgerror_singular\u001b[0m\u001b[1;33m(\u001b[0m\u001b[0merr\u001b[0m\u001b[1;33m,\u001b[0m \u001b[0mflag\u001b[0m\u001b[1;33m)\u001b[0m\u001b[1;33m:\u001b[0m\u001b[1;33m\u001b[0m\u001b[1;33m\u001b[0m\u001b[0m\n\u001b[1;32m---> 88\u001b[1;33m     \u001b[1;32mraise\u001b[0m \u001b[0mLinAlgError\u001b[0m\u001b[1;33m(\u001b[0m\u001b[1;34m\"Singular matrix\"\u001b[0m\u001b[1;33m)\u001b[0m\u001b[1;33m\u001b[0m\u001b[1;33m\u001b[0m\u001b[0m\n\u001b[0m\u001b[0;32m     89\u001b[0m \u001b[1;33m\u001b[0m\u001b[0m\n\u001b[0;32m     90\u001b[0m \u001b[1;32mdef\u001b[0m \u001b[0m_raise_linalgerror_nonposdef\u001b[0m\u001b[1;33m(\u001b[0m\u001b[0merr\u001b[0m\u001b[1;33m,\u001b[0m \u001b[0mflag\u001b[0m\u001b[1;33m)\u001b[0m\u001b[1;33m:\u001b[0m\u001b[1;33m\u001b[0m\u001b[1;33m\u001b[0m\u001b[0m\n",
      "\u001b[1;31mLinAlgError\u001b[0m: Singular matrix"
     ]
    }
   ],
   "source": [
    "'''10. Check your solution if possible using np.linalg.inv() function'''\n",
    "print(np.linalg.inv(A))\n",
    "print(solveLinearSystem(A2,identity_array)[:,3:]) #LinAlgError: Singular matrix "
   ]
  },
  {
   "cell_type": "code",
   "execution_count": null,
   "id": "56b6afb4",
   "metadata": {},
   "outputs": [],
   "source": []
  }
 ],
 "metadata": {
  "kernelspec": {
   "display_name": "Python 3 (ipykernel)",
   "language": "python",
   "name": "python3"
  },
  "language_info": {
   "codemirror_mode": {
    "name": "ipython",
    "version": 3
   },
   "file_extension": ".py",
   "mimetype": "text/x-python",
   "name": "python",
   "nbconvert_exporter": "python",
   "pygments_lexer": "ipython3",
   "version": "3.9.7"
  }
 },
 "nbformat": 4,
 "nbformat_minor": 5
}
