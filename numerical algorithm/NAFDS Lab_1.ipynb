{
 "cells": [
  {
   "cell_type": "code",
   "execution_count": 1,
   "id": "a793dfb8",
   "metadata": {},
   "outputs": [],
   "source": [
    "import numpy as np\n",
    "from scipy.linalg import lu"
   ]
  },
  {
   "cell_type": "markdown",
   "id": "35e6a58a",
   "metadata": {},
   "source": [
    "### Solve the following system of equations using LU Decomposition method:\n",
    "#### Find L and U by hand.\n",
    "#### Confirm that A=LU then solve.\n",
    "- Ex1. 𝟐𝒙+𝟓𝒚=𝟐𝟏, 𝒙+𝟐𝒚=𝟖.\n",
    "- Ex2. 𝒙𝟏+𝒙𝟐+𝒙𝟑=𝟏, 𝟒𝒙𝟏+𝟑𝒙𝟐−𝒙𝟑=𝟔, 𝟑𝒙𝟏+𝟓𝒙_𝟐+𝟑𝒙𝟑=𝟒\n",
    "\n",
    "#### Use scipy.linalg.lu() to slove the previous system using LU decomposition and compare the results."
   ]
  },
  {
   "cell_type": "markdown",
   "id": "e7e1208d",
   "metadata": {},
   "source": [
    "### Note (when using scipy):\n",
    "- In the second system of equations We can see the <b>L and U</b> we get are different from the ones we got by hand. \n",
    "- You will also see there is a permutation matrix <b>P</b> that returned by the <b>lu function</b>. \n",
    "- This permutation matrix record how do we change the order of the equations for easier calculation purposes (for example, if first element in first row is zero, it can not be the pivot equation, since you can not turn the first elements in other rows to zero. Therefore, we need to switch the order of the equations to get a new pivot equation). \n",
    "- If you multiply <b>P with A</b>, you will see that this permutation matrix effect.\n",
    "- You will need to arrange the ouput based on the new matrix <b>A</b> achieved by <b>LU</b> multiplication in order to correctly solve the system of equations."
   ]
  },
  {
   "cell_type": "code",
   "execution_count": 2,
   "id": "0ea46130",
   "metadata": {},
   "outputs": [
    {
     "name": "stdout",
     "output_type": "stream",
     "text": [
      "A = [[2 5]\n",
      " [1 2]]\n",
      "LU = [[2. 5.]\n",
      " [1. 2.]]\n",
      "m= [[21. ]\n",
      " [-2.5]]\n",
      "x= [[-2.]\n",
      " [ 5.]]\n"
     ]
    }
   ],
   "source": [
    "A = np.array([[2,5],[1,2]])\n",
    "y=np.array([[21],[8]])\n",
    "h_wL =np.array([[1,0],[0.5,1]])\n",
    "h_wU =np.array([[2,5],[0,-0.5]])\n",
    "m = np.linalg.inv(h_wL)@y\n",
    "x=np.linalg.inv(h_wU)@m\n",
    "print(f'A = {A}')\n",
    "print(f'LU = {h_wL@h_wU}')\n",
    "print(f'm= {m}')\n",
    "print(f'x= {x}')\n"
   ]
  },
  {
   "cell_type": "code",
   "execution_count": 3,
   "id": "0aad8b89",
   "metadata": {},
   "outputs": [
    {
     "name": "stdout",
     "output_type": "stream",
     "text": [
      "p = [[1. 0.]\n",
      " [0. 1.]]\n",
      "L = [[1.  0. ]\n",
      " [0.5 1. ]]\n",
      "U = [[ 2.   5. ]\n",
      " [ 0.  -0.5]]\n"
     ]
    }
   ],
   "source": [
    "A = np.array([[2,5],[1,2]])\n",
    "y=np.array([[21],[8]])\n",
    "p,l,u = lu(A)\n",
    "print(f'p = {p}')\n",
    "print(f'L = {l}')\n",
    "print(f'U = {u}')"
   ]
  },
  {
   "cell_type": "code",
   "execution_count": 4,
   "id": "745a9fe7",
   "metadata": {},
   "outputs": [
    {
     "name": "stdout",
     "output_type": "stream",
     "text": [
      "A = [[2 5]\n",
      " [1 2]]\n",
      "LU = [[2. 5.]\n",
      " [1. 2.]]\n",
      "m= [[21. ]\n",
      " [-2.5]]\n",
      "x= [[-2.]\n",
      " [ 5.]]\n"
     ]
    }
   ],
   "source": [
    "m = np.linalg.inv(l)@y\n",
    "x=np.linalg.inv(u)@m\n",
    "print(f'A = {A}')\n",
    "print(f'LU = {l@u}')\n",
    "print(f'm= {m}')\n",
    "print(f'x= {x}')"
   ]
  },
  {
   "cell_type": "code",
   "execution_count": 5,
   "id": "9df59b52",
   "metadata": {},
   "outputs": [
    {
     "name": "stdout",
     "output_type": "stream",
     "text": [
      "A = [[ 1  1  1]\n",
      " [ 4  3 -1]\n",
      " [ 3  5  3]]\n",
      "LU = [[ 1  1  1]\n",
      " [ 4  3 -1]\n",
      " [ 3  5  3]]\n",
      "m= [[1.]\n",
      " [2.]\n",
      " [5.]]\n",
      "x= [[ 1. ]\n",
      " [ 0.5]\n",
      " [-0.5]]\n"
     ]
    }
   ],
   "source": [
    "A = np.array([[1, 1, 1], [4, 3, -1], [3, 5, 3]])\n",
    "y=np.array([[1], [6], [4]])\n",
    "h_wL =np.array([[1, 0, 0], [4, 1, 0], [3, -2, 1]])\n",
    "h_wU =np.array([[1, 1, 1], [0, -1, -5], [0, 0, -10]])\n",
    "m = np.linalg.inv(h_wL)@y\n",
    "x=np.linalg.inv(h_wU)@m\n",
    "print(f'A = {A}')\n",
    "print(f'LU = {h_wL@h_wU}')\n",
    "print(f'm= {m}')\n",
    "print(f'x= {x}')"
   ]
  },
  {
   "cell_type": "code",
   "execution_count": 6,
   "id": "18626b95",
   "metadata": {},
   "outputs": [
    {
     "name": "stdout",
     "output_type": "stream",
     "text": [
      "p = [[0. 0. 1.]\n",
      " [1. 0. 0.]\n",
      " [0. 1. 0.]]\n",
      "L = [[1.         0.         0.        ]\n",
      " [0.75       1.         0.        ]\n",
      " [0.25       0.09090909 1.        ]]\n",
      "U = [[ 4.          3.         -1.        ]\n",
      " [ 0.          2.75        3.75      ]\n",
      " [ 0.          0.          0.90909091]]\n"
     ]
    }
   ],
   "source": [
    "A = np.array([[1, 1, 1], [4, 3, -1], [3, 5, 3]])\n",
    "y=np.array([[1], [6], [4]])\n",
    "p,l,u = lu(A)\n",
    "print(f'p = {p}')\n",
    "print(f'L = {l}')\n",
    "print(f'U = {u}')"
   ]
  },
  {
   "cell_type": "code",
   "execution_count": 7,
   "id": "b5ed8d99",
   "metadata": {},
   "outputs": [
    {
     "name": "stdout",
     "output_type": "stream",
     "text": [
      "A = [[ 1  1  1]\n",
      " [ 4  3 -1]\n",
      " [ 3  5  3]]\n",
      "LU = [[ 4.  3. -1.]\n",
      " [ 3.  5.  3.]\n",
      " [ 1.  1.  1.]]\n",
      "m= [[ 6.        ]\n",
      " [-0.5       ]\n",
      " [-0.45454545]]\n",
      "x= [[ 1. ]\n",
      " [ 0.5]\n",
      " [-0.5]]\n"
     ]
    }
   ],
   "source": [
    "y =np.linalg.inv(p)@y\n",
    "m = np.linalg.inv(l)@y\n",
    "x=np.linalg.inv(u)@m\n",
    "print(f'A = {A}')\n",
    "print(f'LU = {l@u}')\n",
    "print(f'm= {m}')\n",
    "print(f'x= {x}')"
   ]
  },
  {
   "cell_type": "markdown",
   "id": "4db8f2ad",
   "metadata": {},
   "source": [
    "### Apply the Jacobi and Gauss-Seidel method to solve\n",
    "- 𝟓𝒙𝟏−𝟐𝒙𝟐+𝟑𝒙𝟑=−𝟏, −𝟑𝒙𝟏+𝟗𝒙𝟐+𝒙𝟑=𝟐, 𝟐𝒙𝟏−𝒙𝟐−𝟕𝒙𝟑=𝟑\n",
    "- Solve once without vectorization then use vectorize implementation.\n",
    "- Check for convergance.\n",
    "- Use different tolerence and see the difference between the two methods. e.g. tol: 0.01,0.001,0.0001 ... etc."
   ]
  },
  {
   "cell_type": "code",
   "execution_count": 8,
   "id": "3a664e8b",
   "metadata": {},
   "outputs": [],
   "source": [
    "A = np.array([[5, -2, 3],\n",
    "     [-3, 9, 1],\n",
    "     [2, -1, -7]])\n",
    "\n"
   ]
  },
  {
   "cell_type": "code",
   "execution_count": 9,
   "id": "f0df7a3d",
   "metadata": {},
   "outputs": [
    {
     "name": "stdout",
     "output_type": "stream",
     "text": [
      "0 -0.2 0.2222 -0.4286\n",
      "1 0.14604 0.20317777777777776 -0.517457142857143\n",
      "2 0.1917453968253969 0.3283974603174603 -0.4158711111111111\n",
      "3 0.18088165079365076 0.3323452557319224 -0.42070095238095234\n",
      "4 0.18535867372134035 0.3292606560846561 -0.4243688505920887\n",
      "5 0.18632557278911568 0.3311605413062344 -0.4226490440917107\n",
      "6 0.1860536429775202 0.33129175138433975 -0.4226441993897147\n"
     ]
    }
   ],
   "source": [
    "## Jacobi Not Vectorized\n",
    "epsilon = 0.00001\n",
    "x1=-0.2000\n",
    "x2=0.2222\n",
    "x3=-0.4286\n",
    "sol = [[x1,x2,x3]]\n",
    "print(0,x1,x2,x3)\n",
    "for i in range (1,100):\n",
    "    x1 = (2*sol[-1][1] - 3 * sol[-1][2] - 1)/5\n",
    "    x2 = (3 * sol[-1][0] - sol[-1][2] +2)/9\n",
    "    x3 =(-2 * sol[-1][0] + sol[-1][1] + 3)/-7\n",
    "    print(i,x1,x2,x3)\n",
    "    if np.abs(x1-sol[-1][0])< epsilon or np.abs(x2-sol[-1][1])< epsilon or np.abs(x3-sol[-1][2])< epsilon :\n",
    "        break\n",
    "    sol.append([x1,x2,x3])\n",
    "\n"
   ]
  },
  {
   "cell_type": "code",
   "execution_count": 10,
   "id": "f18012d4",
   "metadata": {},
   "outputs": [
    {
     "name": "stdout",
     "output_type": "stream",
     "text": [
      "0 0.16698 0.3343155555555556 -0.42862222222222224\n",
      "1 0.19089955555555557 0.3334800987654321 -0.42166871252204585\n",
      "2 0.18639326701940034 0.33120539039780517 -0.4226312651941435\n",
      "3 0.18606091527560817 0.33120155678010754 -0.42272567517555587\n"
     ]
    }
   ],
   "source": [
    "## Gauss-Seidel Not Vectorized\n",
    "epsilon = 0.00001\n",
    "x1=-0.2000\n",
    "x2=0.1556\n",
    "x3=-0.5079\n",
    "sol = []\n",
    "x1 = (2*x2 - 3 * x3 - 1)/5\n",
    "x2 = (3 * x1 - x3 +2)/9\n",
    "x3 =(-2 * x1 + x2 + 3)/-7\n",
    "print(0,x1,x2,x3)\n",
    "sol.append([x1,x2,x3])\n",
    "for i in range (1,100):\n",
    "    x1 = (2*x2 - 3 * x3 - 1)/5\n",
    "    x2 = (3 * x1 - x3 +2)/9\n",
    "    x3 =(-2 * x1 + x2 + 3)/-7\n",
    "    print(i,x1,x2,x3)\n",
    "    if (np.abs(np.array([x1,x2,x3])-np.array(sol[-1]))<epsilon).any():#np.abs(x1-sol[-1][0])< epsilon or np.abs(x2-sol[-1][1])< epsilon or np.abs(x3-sol[-1][2])< epsilon :\n",
    "        break\n",
    "    sol.append([x1,x2,x3])"
   ]
  },
  {
   "cell_type": "code",
   "execution_count": 11,
   "id": "156c1c40",
   "metadata": {},
   "outputs": [
    {
     "name": "stdout",
     "output_type": "stream",
     "text": [
      "A = [[ 5 -2  3]\n",
      " [-3  9  1]\n",
      " [ 2 -1 -7]]\n",
      "diag = [[ 5  0  0]\n",
      " [ 0  9  0]\n",
      " [ 0  0 -7]]\n",
      "l = [[ 0  0  0]\n",
      " [ 3  0  0]\n",
      " [-2  1  0]]\n",
      "u = [[ 0  2 -3]\n",
      " [ 0  0 -1]\n",
      " [ 0  0  0]]\n",
      "[[ 5 -2  3]\n",
      " [-3  9  1]\n",
      " [ 2 -1 -7]]\n"
     ]
    }
   ],
   "source": [
    "A = np.array([[5, -2, 3],\n",
    "     [-3, 9, 1],\n",
    "     [2, -1, -7]])\n",
    "y = np.array([[-1],[2],[3]])\n",
    "\n",
    "diag = np.diag(np.diag(A))\n",
    "l = -np.tril(A, -1) \n",
    "u = -np.triu(A, 1)\n",
    "print(f'A = {A}')\n",
    "print(f'diag = {diag}')\n",
    "print(f'l = {l}')\n",
    "print(f'u = {u}')\n",
    "print(diag-l-u)"
   ]
  },
  {
   "cell_type": "code",
   "execution_count": 12,
   "id": "c4b1d2ba",
   "metadata": {},
   "outputs": [],
   "source": [
    "#guess cycle\n"
   ]
  },
  {
   "cell_type": "code",
   "execution_count": 13,
   "id": "d18f5b38",
   "metadata": {},
   "outputs": [
    {
     "name": "stdout",
     "output_type": "stream",
     "text": [
      "1 [ 0.14604     0.20317778 -0.51745714]\n",
      "2 [ 0.1917454   0.32839746 -0.41587111]\n",
      "3 [ 0.18088165  0.33234526 -0.42070095]\n",
      "4 [ 0.18535867  0.32926066 -0.42436885]\n",
      "5 [ 0.18632557  0.33116054 -0.42264904]\n",
      "6 [ 0.18605364  0.33129175 -0.4226442 ]\n"
     ]
    }
   ],
   "source": [
    "## Jacobi Vectorized\n",
    "epsilon = 0.00001\n",
    "Tgus = np.linalg.inv(diag) @ (l+u)\n",
    "Cgus = np.linalg.inv(diag) @ y\n",
    "# x = np.zeros((3,1))\n",
    "\n",
    "x = np.array([[-0.2000],[0.2222],[-0.4286]])\n",
    "x_brev=[x]\n",
    "for i in range (10):\n",
    "    x = Tgus @ x +Cgus\n",
    "    print(i+1,x.reshape(-1))\n",
    "    if (np.abs(np.array(x)-np.array(x_brev[-1]))<epsilon).any():\n",
    "        break\n",
    "    x_brev.append(x)"
   ]
  },
  {
   "cell_type": "code",
   "execution_count": 14,
   "id": "2974cf6d",
   "metadata": {
    "scrolled": true
   },
   "outputs": [
    {
     "name": "stdout",
     "output_type": "stream",
     "text": [
      "1 [ 0.14604     0.31852444 -0.43234921]\n",
      "2 [ 0.1868193   0.33253412 -0.42269936]\n",
      "3 [ 0.18663327  0.33139991 -0.42259048]\n",
      "4 [ 0.18611425  0.3312148  -0.42271233]\n",
      "5 [ 0.18611332  0.33122803 -0.42271448]\n"
     ]
    }
   ],
   "source": [
    "## Gauss-Seidel Vectorized\n",
    "epsilon = 0.00001\n",
    "Tgus = np.linalg.inv(diag-l) @ u\n",
    "Cgus = np.linalg.inv(diag-l) @ y\n",
    "# x = np.zeros((3,1))\n",
    "\n",
    "x = np.array([[-0.2000],[0.2222],[-0.4286]])\n",
    "x_brev=[x]\n",
    "for i in range (10):\n",
    "    x = Tgus @ x +Cgus\n",
    "    print(i+1,x.reshape(-1))\n",
    "    if (np.abs(np.array(x)-np.array(x_brev[-1]))<epsilon).any():\n",
    "        break\n",
    "    x_brev.append(x)"
   ]
  },
  {
   "cell_type": "markdown",
   "id": "358e7fe3",
   "metadata": {},
   "source": [
    "### Use np.linalg.solve() to solve the previous system and compare the results."
   ]
  },
  {
   "cell_type": "code",
   "execution_count": 15,
   "id": "52a53f5e",
   "metadata": {
    "scrolled": true
   },
   "outputs": [
    {
     "data": {
      "text/plain": [
       "array([[ 0.18611987],\n",
       "       [ 0.33123028],\n",
       "       [-0.42271293]])"
      ]
     },
     "execution_count": 15,
     "metadata": {},
     "output_type": "execute_result"
    }
   ],
   "source": [
    "P,L,U = lu(A)\n",
    "np.linalg.solve(A,y)"
   ]
  },
  {
   "cell_type": "markdown",
   "id": "9b8e273e",
   "metadata": {},
   "source": [
    "### Use scipy.linalg.lu() to slove the previous system using LU decomposition and compare the results."
   ]
  },
  {
   "cell_type": "code",
   "execution_count": 16,
   "id": "2c4d5913",
   "metadata": {},
   "outputs": [
    {
     "data": {
      "text/plain": [
       "array([[1., 0., 0.],\n",
       "       [0., 1., 0.],\n",
       "       [0., 0., 1.]])"
      ]
     },
     "execution_count": 16,
     "metadata": {},
     "output_type": "execute_result"
    }
   ],
   "source": [
    "P"
   ]
  },
  {
   "cell_type": "code",
   "execution_count": 17,
   "id": "69e24fc0",
   "metadata": {},
   "outputs": [
    {
     "data": {
      "text/plain": [
       "array([[ 1.        ,  0.        ,  0.        ],\n",
       "       [-0.6       ,  1.        ,  0.        ],\n",
       "       [ 0.4       , -0.02564103,  1.        ]])"
      ]
     },
     "execution_count": 17,
     "metadata": {},
     "output_type": "execute_result"
    }
   ],
   "source": [
    "L"
   ]
  },
  {
   "cell_type": "code",
   "execution_count": 18,
   "id": "23647550",
   "metadata": {},
   "outputs": [
    {
     "data": {
      "text/plain": [
       "array([[ 5.        , -2.        ,  3.        ],\n",
       "       [ 0.        ,  7.8       ,  2.8       ],\n",
       "       [ 0.        ,  0.        , -8.12820513]])"
      ]
     },
     "execution_count": 18,
     "metadata": {},
     "output_type": "execute_result"
    }
   ],
   "source": [
    "U"
   ]
  }
 ],
 "metadata": {
  "interpreter": {
   "hash": "ad2bdc8ecc057115af97d19610ffacc2b4e99fae6737bb82f5d7fb13d2f2c186"
  },
  "kernelspec": {
   "display_name": "Python 3.9.7 ('base')",
   "language": "python",
   "name": "python3"
  },
  "language_info": {
   "codemirror_mode": {
    "name": "ipython",
    "version": 3
   },
   "file_extension": ".py",
   "mimetype": "text/x-python",
   "name": "python",
   "nbconvert_exporter": "python",
   "pygments_lexer": "ipython3",
   "version": "3.9.7"
  }
 },
 "nbformat": 4,
 "nbformat_minor": 5
}
