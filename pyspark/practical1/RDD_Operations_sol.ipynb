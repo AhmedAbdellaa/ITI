{
 "cells": [
  {
   "cell_type": "markdown",
   "id": "2568221b",
   "metadata": {},
   "source": [
    "### Import the required libraries then Create SparkContext"
   ]
  },
  {
   "cell_type": "code",
   "execution_count": 1,
   "id": "65e6978c",
   "metadata": {},
   "outputs": [],
   "source": [
    "import findspark\n",
    "findspark.init()"
   ]
  },
  {
   "cell_type": "code",
   "execution_count": 5,
   "id": "b65f7237",
   "metadata": {},
   "outputs": [],
   "source": [
    "# import pyspark\n",
    "from pyspark.sql import SparkSession"
   ]
  },
  {
   "cell_type": "code",
   "execution_count": 6,
   "id": "80ae2f40",
   "metadata": {},
   "outputs": [],
   "source": [
    "spark = SparkSession.builder \\\n",
    "    .master(\"local[*]\") \\\n",
    "    .appName(\"Word Count\") \\\n",
    "    .config(\"spark.some.config.option\", \"some-value\") \\\n",
    "    .getOrCreate()\n",
    "sc = spark.sparkContext"
   ]
  },
  {
   "cell_type": "markdown",
   "id": "e9a7d9c6",
   "metadata": {},
   "source": [
    "### Create and display an RDD from the following list"
   ]
  },
  {
   "cell_type": "code",
   "execution_count": 10,
   "id": "409084ef",
   "metadata": {},
   "outputs": [],
   "source": [
    "list = [('JK', 22), ('V', 24), ('Jimin',24), ('RM', 25), ('J-Hope', 25), ('Suga', 26), ('Jin', 27)]"
   ]
  },
  {
   "cell_type": "code",
   "execution_count": 13,
   "id": "d5ba0725",
   "metadata": {
    "scrolled": true
   },
   "outputs": [
    {
     "data": {
      "text/plain": [
       "[('JK', 22),\n",
       " ('V', 24),\n",
       " ('Jimin', 24),\n",
       " ('RM', 25),\n",
       " ('J-Hope', 25),\n",
       " ('Suga', 26),\n",
       " ('Jin', 27)]"
      ]
     },
     "execution_count": 13,
     "metadata": {},
     "output_type": "execute_result"
    }
   ],
   "source": [
    "rdd = sc.parallelize(list)\n",
    "rdd.collect()"
   ]
  },
  {
   "cell_type": "markdown",
   "id": "feedfb38",
   "metadata": {},
   "source": [
    "### Read sample1.txt file into RDD and displaying the first 4 elements"
   ]
  },
  {
   "cell_type": "code",
   "execution_count": 28,
   "id": "b1d84999",
   "metadata": {},
   "outputs": [],
   "source": [
    "llT = [['utilitatis', 'causa', 'amicitia', 'est', 'quaesita.'],\n",
    " ['lorem','ipsum','dolor','sit','amet,','consectetur','adipiscing','elit.'],\n",
    " ['collatio',  'igitur','ista','te','nihil','iuvat.','honesta','oratio,','socratica,',\n",
    "  'platonis','etiam.','primum','in','nostrane','potestate','est,','quid','meminerimus?'],\n",
    " ['duo', 'reges:', 'constructio', 'interrete.'],\n",
    " ['quid,','si','etiam','iucunda','memoria','est','praeteritorum','malorum?','si',\n",
    "  'quidem,','inquit,','tollerem,','sed','relinquo.','an','nisi','populari','fama?']]"
   ]
  },
  {
   "cell_type": "code",
   "execution_count": 29,
   "id": "b61beab1",
   "metadata": {},
   "outputs": [
    {
     "name": "stdout",
     "output_type": "stream",
     "text": [
      "utilitatis causa amicitia est quaesita. \n",
      "lorem ipsum dolor sit amet, consectetur adipiscing elit. \n",
      "collatio igitur ista te nihil iuvat. honesta oratio, socratica, platonis etiam. primum in nostrane potestate est, quid meminerimus? \n",
      "duo reges: constructio interrete. \n",
      "quid, si etiam iucunda memoria est praeteritorum malorum? si quidem, inquit, tollerem, sed relinquo. an nisi populari fama? \n",
      "\n"
     ]
    }
   ],
   "source": [
    "text =''\n",
    "for li in llT:\n",
    "    for st in li:\n",
    "        text += st\n",
    "        text += ' '\n",
    "    text += '\\n'\n",
    "print(text)"
   ]
  },
  {
   "cell_type": "code",
   "execution_count": 57,
   "id": "e105ea23",
   "metadata": {},
   "outputs": [
    {
     "name": "stdout",
     "output_type": "stream",
     "text": [
      "Overwriting sample1.txt\n"
     ]
    }
   ],
   "source": [
    "%%writefile sample1.txt\n",
    "utilitatis causa amicitia est quaesita. \n",
    "lorem ipsum dolor sit amet, consectetur adipiscing elit. \n",
    "collatio igitur ista te nihil iuvat. honesta oratio, socratica, platonis etiam.\n",
    "primum in nostrane potestate est, quid meminerimus? \n",
    "duo reges: constructio interrete. \n",
    "quid, si etiam iucunda memoria est praeteritorum malorum? si quidem, inquit, tollerem, sed relinquo.\n",
    "an nisi populari fama? "
   ]
  },
  {
   "cell_type": "code",
   "execution_count": 58,
   "id": "14f5c55a",
   "metadata": {},
   "outputs": [
    {
     "data": {
      "text/plain": [
       "['utilitatis causa amicitia est quaesita. ',\n",
       " 'lorem ipsum dolor sit amet, consectetur adipiscing elit. ',\n",
       " 'collatio igitur ista te nihil iuvat. honesta oratio, socratica, platonis etiam.',\n",
       " 'primum in nostrane potestate est, quid meminerimus? ']"
      ]
     },
     "execution_count": 58,
     "metadata": {},
     "output_type": "execute_result"
    }
   ],
   "source": [
    "rdd_sam = sc.textFile('sample1.txt')\n",
    "rdd_sam.take(4)"
   ]
  },
  {
   "cell_type": "markdown",
   "id": "e55ae192",
   "metadata": {},
   "source": [
    "### Count the total number of rows in RDD"
   ]
  },
  {
   "cell_type": "code",
   "execution_count": 59,
   "id": "0b3be34e",
   "metadata": {},
   "outputs": [
    {
     "data": {
      "text/plain": [
       "7"
      ]
     },
     "execution_count": 59,
     "metadata": {},
     "output_type": "execute_result"
    }
   ],
   "source": [
    "rdd_sam.count()"
   ]
  },
  {
   "cell_type": "markdown",
   "id": "35652e93",
   "metadata": {},
   "source": [
    "### Create a function to convert the data into lower case and splitting it"
   ]
  },
  {
   "cell_type": "code",
   "execution_count": 60,
   "id": "3e8f7f45",
   "metadata": {
    "scrolled": true
   },
   "outputs": [
    {
     "data": {
      "text/plain": [
       "[['utilitatis', 'causa', 'amicitia', 'est', 'quaesita.'],\n",
       " ['lorem',\n",
       "  'ipsum',\n",
       "  'dolor',\n",
       "  'sit',\n",
       "  'amet,',\n",
       "  'consectetur',\n",
       "  'adipiscing',\n",
       "  'elit.'],\n",
       " ['collatio',\n",
       "  'igitur',\n",
       "  'ista',\n",
       "  'te',\n",
       "  'nihil',\n",
       "  'iuvat.',\n",
       "  'honesta',\n",
       "  'oratio,',\n",
       "  'socratica,',\n",
       "  'platonis',\n",
       "  'etiam.'],\n",
       " ['primum', 'in', 'nostrane', 'potestate', 'est,', 'quid', 'meminerimus?'],\n",
       " ['duo', 'reges:', 'constructio', 'interrete.'],\n",
       " ['quid,',\n",
       "  'si',\n",
       "  'etiam',\n",
       "  'iucunda',\n",
       "  'memoria',\n",
       "  'est',\n",
       "  'praeteritorum',\n",
       "  'malorum?',\n",
       "  'si',\n",
       "  'quidem,',\n",
       "  'inquit,',\n",
       "  'tollerem,',\n",
       "  'sed',\n",
       "  'relinquo.'],\n",
       " ['an', 'nisi', 'populari', 'fama?']]"
      ]
     },
     "execution_count": 60,
     "metadata": {},
     "output_type": "execute_result"
    }
   ],
   "source": [
    "rdd_sam_lower = rdd_sam.map(lambda st_li : st_li.lower().split())\n",
    "rdd_sam_lower.collect()"
   ]
  },
  {
   "cell_type": "markdown",
   "id": "4cfa29af",
   "metadata": {},
   "source": [
    "### Filter the stopwords from the previous text"
   ]
  },
  {
   "cell_type": "code",
   "execution_count": 38,
   "id": "97c1e731",
   "metadata": {},
   "outputs": [],
   "source": [
    "stopwords = ['a','all','the','as','is','am','an','and',\n",
    "             'be','been','from','had','I','I’d','why','with']\n",
    "# Hint: you may need use flatMap"
   ]
  },
  {
   "cell_type": "code",
   "execution_count": 44,
   "id": "169b7098",
   "metadata": {},
   "outputs": [
    {
     "data": {
      "text/plain": [
       "['utilitatis',\n",
       " 'causa',\n",
       " 'amicitia',\n",
       " 'est',\n",
       " 'quaesita.',\n",
       " 'lorem',\n",
       " 'ipsum',\n",
       " 'dolor',\n",
       " 'sit',\n",
       " 'amet,']"
      ]
     },
     "execution_count": 44,
     "metadata": {},
     "output_type": "execute_result"
    }
   ],
   "source": [
    "rdd_sam_flat = rdd_sam.flatMap(lambda line : line.split())\n",
    "rdd_sam_flat.take(10)"
   ]
  },
  {
   "cell_type": "code",
   "execution_count": 46,
   "id": "65fa1d91",
   "metadata": {},
   "outputs": [
    {
     "data": {
      "text/plain": [
       "['an']"
      ]
     },
     "execution_count": 46,
     "metadata": {},
     "output_type": "execute_result"
    }
   ],
   "source": [
    "rdd_sam_filter = rdd_sam_flat.filter(lambda STR : STR in stopwords)\n",
    "rdd_sam_filter.take(10)"
   ]
  },
  {
   "cell_type": "markdown",
   "id": "eb066a90",
   "metadata": {},
   "source": [
    "### Filter the words starting with ‘c’"
   ]
  },
  {
   "cell_type": "code",
   "execution_count": 47,
   "id": "7f39a4b8",
   "metadata": {},
   "outputs": [
    {
     "data": {
      "text/plain": [
       "['causa', 'consectetur', 'collatio', 'constructio']"
      ]
     },
     "execution_count": 47,
     "metadata": {},
     "output_type": "execute_result"
    }
   ],
   "source": [
    "rdd_sam_Cfilter = rdd_sam_flat.filter(lambda STR : STR[0]=='c')\n",
    "rdd_sam_Cfilter.take(10)"
   ]
  },
  {
   "cell_type": "markdown",
   "id": "eba39e2e",
   "metadata": {},
   "source": [
    "### Reduce the data by key and sum it (use the data from the following list)"
   ]
  },
  {
   "cell_type": "code",
   "execution_count": 67,
   "id": "f26dea46",
   "metadata": {},
   "outputs": [],
   "source": [
    "list = [('JK', 22), ('V', 24), ('Jimin',24), ('RM', 25)\n",
    "        , ('J-Hope', 25), ('Suga', 26), ('Jin', 27),\n",
    "         ('J-Hope', 12), ('Suga', 25), ('Jin', 34)\n",
    "       , ('JK', 32), ('V', 44), ('Jimin',14), ('RM', 35)]\n",
    "# Hint: use reduceByKey"
   ]
  },
  {
   "cell_type": "code",
   "execution_count": 68,
   "id": "64cd95e6",
   "metadata": {},
   "outputs": [
    {
     "data": {
      "text/plain": [
       "[('JK', 22),\n",
       " ('V', 24),\n",
       " ('Jimin', 24),\n",
       " ('RM', 25),\n",
       " ('J-Hope', 25),\n",
       " ('Suga', 26),\n",
       " ('Jin', 27),\n",
       " ('J-Hope', 12),\n",
       " ('Suga', 25),\n",
       " ('Jin', 34),\n",
       " ('JK', 32),\n",
       " ('V', 44),\n",
       " ('Jimin', 14),\n",
       " ('RM', 35)]"
      ]
     },
     "execution_count": 68,
     "metadata": {},
     "output_type": "execute_result"
    }
   ],
   "source": [
    "rdd_list = sc.parallelize(list)\n",
    "rdd_list.collect()"
   ]
  },
  {
   "cell_type": "code",
   "execution_count": 75,
   "id": "15cae381",
   "metadata": {},
   "outputs": [
    {
     "data": {
      "text/plain": [
       "[('J-Hope', 37),\n",
       " ('JK', 54),\n",
       " ('Jimin', 38),\n",
       " ('Jin', 61),\n",
       " ('RM', 60),\n",
       " ('Suga', 51),\n",
       " ('V', 68)]"
      ]
     },
     "execution_count": 75,
     "metadata": {},
     "output_type": "execute_result"
    }
   ],
   "source": [
    "rdd_list.groupByKey().mapValues(sum).sortByKey().collect()"
   ]
  },
  {
   "cell_type": "code",
   "execution_count": 76,
   "id": "cfb446ee",
   "metadata": {},
   "outputs": [],
   "source": [
    "rdd1 = sc.parallelize([('a',2),('b',3)])\n",
    "rdd2 = sc.parallelize([('a',9),('b',7),('c',10)])"
   ]
  },
  {
   "cell_type": "markdown",
   "id": "98ec3168",
   "metadata": {},
   "source": [
    "### Perform Join operation on the RDDs (rdd1,rdd2)"
   ]
  },
  {
   "cell_type": "code",
   "execution_count": 80,
   "id": "c61b5926",
   "metadata": {},
   "outputs": [
    {
     "data": {
      "text/plain": [
       "[('b', (3, 7)), ('a', (2, 9))]"
      ]
     },
     "execution_count": 80,
     "metadata": {},
     "output_type": "execute_result"
    }
   ],
   "source": [
    "rdds = rdd1.join(rdd2)\n",
    "rdds.collect()"
   ]
  },
  {
   "cell_type": "code",
   "execution_count": null,
   "id": "5fc98e9f",
   "metadata": {},
   "outputs": [],
   "source": []
  }
 ],
 "metadata": {
  "interpreter": {
   "hash": "d4d1e4263499bec80672ea0156c357c1ee493ec2b1c70f0acce89fc37c4a6abe"
  },
  "kernelspec": {
   "display_name": "Python 3.10.4 ('base')",
   "language": "python",
   "name": "python3"
  },
  "language_info": {
   "codemirror_mode": {
    "name": "ipython",
    "version": 3
   },
   "file_extension": ".py",
   "mimetype": "text/x-python",
   "name": "python",
   "nbconvert_exporter": "python",
   "pygments_lexer": "ipython3",
   "version": "3.10.4"
  }
 },
 "nbformat": 4,
 "nbformat_minor": 5
}
