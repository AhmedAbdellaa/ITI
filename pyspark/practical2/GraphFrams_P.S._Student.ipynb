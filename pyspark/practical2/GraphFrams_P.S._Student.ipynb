{
  "cells": [
    {
      "cell_type": "markdown",
      "id": "779b346d",
      "metadata": {
        "id": "779b346d"
      },
      "source": [
        "## The following section is for Colab Users.\n",
        "### Just run the following code cells"
      ]
    },
    {
      "cell_type": "code",
      "execution_count": 1,
      "id": "7d73eb01",
      "metadata": {
        "id": "7d73eb01",
        "outputId": "587109d6-0fe1-44dd-8bb0-84ca950e246c",
        "colab": {
          "base_uri": "https://localhost:8080/"
        }
      },
      "outputs": [
        {
          "output_type": "stream",
          "name": "stdout",
          "text": [
            "\u001b[K     |████████████████████████████████| 281.3 MB 45 kB/s \n",
            "\u001b[K     |████████████████████████████████| 199 kB 53.4 MB/s \n",
            "\u001b[K     |████████████████████████████████| 154 kB 52.1 MB/s \n",
            "\u001b[?25h  Building wheel for pyspark (setup.py) ... \u001b[?25l\u001b[?25hdone\n"
          ]
        }
      ],
      "source": [
        "!apt-get install openjdk-11-jdk-headless -qq > /dev/null\n",
        "!wget -q https://bitbucket.org/habedi/datasets/raw/b6769c4664e7ff68b001e2f43bc517888cbe3642/spark/spark-3.0.2-bin-hadoop2.7.tgz\n",
        "!tar xf spark-3.0.2-bin-hadoop2.7.tgz\n",
        "!rm -rf spark-3.0.2-bin-hadoop2.7.tgz*\n",
        "!pip -q install findspark pyspark graphframes"
      ]
    },
    {
      "cell_type": "code",
      "execution_count": 2,
      "id": "299e0d6a",
      "metadata": {
        "id": "299e0d6a",
        "outputId": "fb302722-f2a4-4ef3-a106-717d92d935dc",
        "colab": {
          "base_uri": "https://localhost:8080/"
        }
      },
      "outputs": [
        {
          "output_type": "stream",
          "name": "stdout",
          "text": [
            "--2022-06-29 19:30:56--  https://repos.spark-packages.org/graphframes/graphframes/0.8.2-spark3.0-s_2.12/graphframes-0.8.2-spark3.0-s_2.12.jar\n",
            "Resolving repos.spark-packages.org (repos.spark-packages.org)... 18.67.0.65, 18.67.0.60, 18.67.0.34, ...\n",
            "Connecting to repos.spark-packages.org (repos.spark-packages.org)|18.67.0.65|:443... connected.\n",
            "HTTP request sent, awaiting response... 200 OK\n",
            "Length: 247882 (242K) [binary/octet-stream]\n",
            "Saving to: ‘/content/spark-3.0.2-bin-hadoop2.7/jars/graphframes-0.8.2-spark3.0-s_2.12.jar’\n",
            "\n",
            "graphframes-0.8.2-s 100%[===================>] 242.07K  --.-KB/s    in 0.06s   \n",
            "\n",
            "2022-06-29 19:30:57 (3.90 MB/s) - ‘/content/spark-3.0.2-bin-hadoop2.7/jars/graphframes-0.8.2-spark3.0-s_2.12.jar’ saved [247882/247882]\n",
            "\n"
          ]
        }
      ],
      "source": [
        "!wget https://repos.spark-packages.org/graphframes/graphframes/0.8.2-spark3.0-s_2.12/graphframes-0.8.2-spark3.0-s_2.12.jar -P /content/spark-3.0.2-bin-hadoop2.7/jars/\n",
        "!cp /content/spark-3.0.2-bin-hadoop2.7/jars/graphframes-0.8.2-spark3.0-s_2.12.jar /content/spark-3.0.2-bin-hadoop2.7/graphframes-0.8.2-spark3.0-s_2.12.zip"
      ]
    },
    {
      "cell_type": "code",
      "execution_count": 3,
      "id": "ee0d39ec",
      "metadata": {
        "id": "ee0d39ec"
      },
      "outputs": [],
      "source": [
        "import os\n",
        "\n",
        "os.environ[\"JAVA_HOME\"] = \"/usr/lib/jvm/java-11-openjdk-amd64\"\n",
        "os.environ[\"SPARK_HOME\"] = \"/content/spark-3.0.2-bin-hadoop2.7\"\n",
        "os.environ[\"HADOOP_HOME\"] = os.environ[\"SPARK_HOME\"]\n",
        "\n",
        "os.environ[\"PYSPARK_DRIVER_PYTHON\"] = \"jupyter\"\n",
        "os.environ[\"PYSPARK_DRIVER_PYTHON_OPTS\"] = \"notebook\"\n",
        "os.environ[\"PYSPARK_SUBMIT_ARGS\"] = \"--master local[*] pyspark-shell\""
      ]
    },
    {
      "cell_type": "code",
      "execution_count": 4,
      "id": "7136d8e6",
      "metadata": {
        "id": "7136d8e6"
      },
      "outputs": [],
      "source": [
        "import findspark\n",
        "findspark.init()"
      ]
    },
    {
      "cell_type": "code",
      "execution_count": 5,
      "id": "92f3e19b",
      "metadata": {
        "id": "92f3e19b"
      },
      "outputs": [],
      "source": [
        "!export PYSPARK_SUBMIT_ARGS=\"--master local[*] pyspark-shell\"\n",
        "!export PYSPARK_DRIVER_PYTHON=jupyter\n",
        "!export PYSPARK_DRIVER_PYTHON_OPTS=notebook"
      ]
    },
    {
      "cell_type": "code",
      "execution_count": 6,
      "id": "f1504ff4",
      "metadata": {
        "id": "f1504ff4"
      },
      "outputs": [],
      "source": [
        "from pyspark.sql import SparkSession\n",
        "from graphframes import *\n",
        "\n",
        "spark = SparkSession.builder.master(\"local[*]\").appName(\"GraphFrames\").getOrCreate()"
      ]
    },
    {
      "cell_type": "code",
      "execution_count": 7,
      "id": "252db99a",
      "metadata": {
        "id": "252db99a"
      },
      "outputs": [],
      "source": [
        "os.environ[\"PYSPARK_SUBMIT_ARGS\"] = \"--packages graphframes:graphframes:0.8.1-spark3.0-s_2.12 pyspark-shell\""
      ]
    },
    {
      "cell_type": "markdown",
      "id": "66232934",
      "metadata": {
        "id": "66232934"
      },
      "source": [
        "**************************************************************************\n",
        "**************************************************************************\n",
        "**************************************************************************"
      ]
    },
    {
      "cell_type": "code",
      "execution_count": null,
      "id": "c90808ca",
      "metadata": {
        "id": "c90808ca"
      },
      "outputs": [],
      "source": [
        ""
      ]
    },
    {
      "cell_type": "code",
      "execution_count": 8,
      "id": "2a0819b3",
      "metadata": {
        "id": "2a0819b3",
        "outputId": "ccf7391d-df8d-4fd0-bd78-92c61ed7d8d1",
        "colab": {
          "base_uri": "https://localhost:8080/",
          "height": 17
        }
      },
      "outputs": [
        {
          "output_type": "display_data",
          "data": {
            "text/plain": [
              "<IPython.core.display.HTML object>"
            ],
            "text/html": [
              "<style>pre { white-space: pre !important; }</style>"
            ]
          },
          "metadata": {}
        }
      ],
      "source": [
        "from IPython.display import display, HTML\n",
        "display(HTML(\"<style>pre { white-space: pre !important; }</style>\"))"
      ]
    },
    {
      "cell_type": "markdown",
      "id": "d7f57da0",
      "metadata": {
        "id": "d7f57da0"
      },
      "source": [
        "### Read departuredelays.csv in Edge DataFrame\n",
        "### Read airport-codes-na.txt in Vertix DataFrame (the separator is Tab i.e sep = '\\t' )"
      ]
    },
    {
      "cell_type": "markdown",
      "id": "631c334e",
      "metadata": {
        "id": "631c334e"
      },
      "source": [
        "#### The US flight delays data set has five columns:\n",
        "- The <b>date</b> column contains an integer like 02190925 . When converted, this maps to 02-19 09:25 am.\n",
        "- The <b>delay</b> column gives the delay in minutes between the scheduled and actual departure times. Early departures show negative numbers.\n",
        "- The <b>distance</b> column gives the distance in miles from the origin airport to the destination airport.\n",
        "- The <b>origin</b> column contains the origin IATA airport code.\n",
        "- The <b>destination</b> column contains the destination IATA airport code.\n",
        "\n",
        "#### The airport-codes data set has four columns:\n",
        "- The <b>IATA</b> column contains IATA airport code.\n",
        "- The <b>City, State, and Country</b> columns contains information about the airport location. "
      ]
    },
    {
      "cell_type": "code",
      "execution_count": 10,
      "id": "30f02a5a",
      "metadata": {
        "id": "30f02a5a",
        "colab": {
          "base_uri": "https://localhost:8080/"
        },
        "outputId": "60394ec1-f09c-4461-bfab-6b280af0efbf"
      },
      "outputs": [
        {
          "output_type": "stream",
          "name": "stdout",
          "text": [
            "+-----------+-----+-------+----+\n",
            "|       City|State|Country|IATA|\n",
            "+-----------+-----+-------+----+\n",
            "| Abbotsford|   BC| Canada| YXX|\n",
            "|   Aberdeen|   SD|    USA| ABR|\n",
            "|    Abilene|   TX|    USA| ABI|\n",
            "|      Akron|   OH|    USA| CAK|\n",
            "|    Alamosa|   CO|    USA| ALS|\n",
            "|     Albany|   GA|    USA| ABY|\n",
            "|     Albany|   NY|    USA| ALB|\n",
            "|Albuquerque|   NM|    USA| ABQ|\n",
            "| Alexandria|   LA|    USA| AEX|\n",
            "|  Allentown|   PA|    USA| ABE|\n",
            "|   Alliance|   NE|    USA| AIA|\n",
            "|     Alpena|   MI|    USA| APN|\n",
            "|    Altoona|   PA|    USA| AOO|\n",
            "|   Amarillo|   TX|    USA| AMA|\n",
            "|Anahim Lake|   BC| Canada| YAA|\n",
            "|  Anchorage|   AK|    USA| ANC|\n",
            "|   Appleton|   WI|    USA| ATW|\n",
            "|     Arviat|  NWT| Canada| YEK|\n",
            "|  Asheville|   NC|    USA| AVL|\n",
            "|      Aspen|   CO|    USA| ASE|\n",
            "+-----------+-----+-------+----+\n",
            "only showing top 20 rows\n",
            "\n"
          ]
        }
      ],
      "source": [
        "vertix_df = spark.read.csv('airport-codes-na.txt', header='true', inferSchema='true', sep='\\t')\n",
        "vertix_df.show()"
      ]
    },
    {
      "cell_type": "markdown",
      "id": "e1d90463",
      "metadata": {
        "id": "e1d90463"
      },
      "source": [
        "### In the vertix DataFrame, drop any duplicated rows with the same  IATA code."
      ]
    },
    {
      "cell_type": "code",
      "execution_count": 11,
      "id": "15571db4",
      "metadata": {
        "id": "15571db4"
      },
      "outputs": [],
      "source": [
        "vertix_df = vertix_df.dropDuplicates(['IATA'])"
      ]
    },
    {
      "cell_type": "markdown",
      "id": "83d1dea8",
      "metadata": {
        "id": "83d1dea8"
      },
      "source": [
        "### In the edges DataFrame:\n",
        "- Rename the <b>date</b> columns to become <b>tripid</b>.\n",
        "- Rename the <b>origin</b> columns to become <b>src</b>.\n",
        "- Rename the <b>destination</b> columns to become <b>dst</b>."
      ]
    },
    {
      "cell_type": "code",
      "execution_count": 12,
      "id": "5319e844",
      "metadata": {
        "id": "5319e844"
      },
      "outputs": [],
      "source": [
        "edge_df = spark.read.csv('departuredelays.csv', header='true',inferSchema=True)"
      ]
    },
    {
      "cell_type": "code",
      "source": [
        "edge_df = edge_df.withColumnRenamed(\"date\",\"tripid\")\n",
        "edge_df = edge_df.withColumnRenamed(\"origin\",\"src\")\n",
        "edge_df = edge_df.withColumnRenamed(\"destination\",\"dst\")\n",
        "edge_df.show(5)"
      ],
      "metadata": {
        "id": "AJBDqQB6Vm6G",
        "colab": {
          "base_uri": "https://localhost:8080/"
        },
        "outputId": "5c38bb6c-6f5c-410f-cc87-bd459ddca9fa"
      },
      "id": "AJBDqQB6Vm6G",
      "execution_count": 13,
      "outputs": [
        {
          "output_type": "stream",
          "name": "stdout",
          "text": [
            "+-------+-----+--------+---+---+\n",
            "| tripid|delay|distance|src|dst|\n",
            "+-------+-----+--------+---+---+\n",
            "|1011245|    6|     602|ABE|ATL|\n",
            "|1020600|   -8|     369|ABE|DTW|\n",
            "|1021245|   -2|     602|ABE|ATL|\n",
            "|1020605|   -4|     602|ABE|ATL|\n",
            "|1031245|   -4|     602|ABE|ATL|\n",
            "+-------+-----+--------+---+---+\n",
            "only showing top 5 rows\n",
            "\n"
          ]
        }
      ]
    },
    {
      "cell_type": "markdown",
      "id": "260660dc",
      "metadata": {
        "id": "260660dc"
      },
      "source": [
        "### In the Vertix DataFrame:\n",
        "- Rename the <b>IATA</b> columns to become <b>id</b>."
      ]
    },
    {
      "cell_type": "code",
      "execution_count": 14,
      "id": "42846969",
      "metadata": {
        "scrolled": false,
        "id": "42846969"
      },
      "outputs": [],
      "source": [
        "vertix_df=vertix_df.withColumnRenamed(\"IATA\",\"id\")"
      ]
    },
    {
      "cell_type": "markdown",
      "id": "4b50a1fe",
      "metadata": {
        "id": "4b50a1fe"
      },
      "source": [
        "### Create GraphFrame from Vertix and Edges DataFrames"
      ]
    },
    {
      "cell_type": "code",
      "source": [
        "from pyspark.sql.functions import *\n",
        "from graphframes import *"
      ],
      "metadata": {
        "id": "3heqF8pBjtoI"
      },
      "id": "3heqF8pBjtoI",
      "execution_count": 15,
      "outputs": []
    },
    {
      "cell_type": "code",
      "source": [
        "vertix_df.cache()\n",
        "edge_df.cache()"
      ],
      "metadata": {
        "colab": {
          "base_uri": "https://localhost:8080/"
        },
        "id": "r8-dR3ccju3o",
        "outputId": "4c62aca4-9dee-4a7a-cb0f-642be66d6dad"
      },
      "id": "r8-dR3ccju3o",
      "execution_count": 16,
      "outputs": [
        {
          "output_type": "execute_result",
          "data": {
            "text/plain": [
              "DataFrame[tripid: int, delay: int, distance: int, src: string, dst: string]"
            ]
          },
          "metadata": {},
          "execution_count": 16
        }
      ]
    },
    {
      "cell_type": "code",
      "execution_count": 17,
      "id": "72be9d09",
      "metadata": {
        "id": "72be9d09"
      },
      "outputs": [],
      "source": [
        "graph = GraphFrame(vertix_df, edge_df)"
      ]
    },
    {
      "cell_type": "markdown",
      "id": "abd2ebc6",
      "metadata": {
        "id": "abd2ebc6"
      },
      "source": [
        "### Determine the number of airports"
      ]
    },
    {
      "cell_type": "code",
      "execution_count": 18,
      "id": "f38688c9",
      "metadata": {
        "id": "f38688c9",
        "colab": {
          "base_uri": "https://localhost:8080/"
        },
        "outputId": "456c4655-281e-4ffb-f6fc-6cdef81af3fe"
      },
      "outputs": [
        {
          "output_type": "stream",
          "name": "stdout",
          "text": [
            "Airports: 524\n"
          ]
        }
      ],
      "source": [
        "print (\"Airports: %d\" % graph.vertices.count())"
      ]
    },
    {
      "cell_type": "markdown",
      "id": "435187a8",
      "metadata": {
        "id": "435187a8"
      },
      "source": [
        "### Determine the number of trips "
      ]
    },
    {
      "cell_type": "code",
      "execution_count": 19,
      "id": "db2a507d",
      "metadata": {
        "id": "db2a507d",
        "colab": {
          "base_uri": "https://localhost:8080/"
        },
        "outputId": "e927ab94-8a9f-4cb6-af80-a95f2e13f3e3"
      },
      "outputs": [
        {
          "output_type": "stream",
          "name": "stdout",
          "text": [
            "Trips: 1391578\n"
          ]
        }
      ],
      "source": [
        "print (\"Trips: %d\" % graph.edges.count())"
      ]
    },
    {
      "cell_type": "markdown",
      "id": "dec8731f",
      "metadata": {
        "id": "dec8731f"
      },
      "source": [
        "### What is the longest delay?"
      ]
    },
    {
      "cell_type": "code",
      "source": [
        "edge_df.dtypes"
      ],
      "metadata": {
        "colab": {
          "base_uri": "https://localhost:8080/"
        },
        "id": "PpAzVEadls0Q",
        "outputId": "4c4f1b08-e797-4b41-b672-8d1d2c40bfc4"
      },
      "id": "PpAzVEadls0Q",
      "execution_count": 20,
      "outputs": [
        {
          "output_type": "execute_result",
          "data": {
            "text/plain": [
              "[('tripid', 'int'),\n",
              " ('delay', 'int'),\n",
              " ('distance', 'int'),\n",
              " ('src', 'string'),\n",
              " ('dst', 'string')]"
            ]
          },
          "metadata": {},
          "execution_count": 20
        }
      ]
    },
    {
      "cell_type": "code",
      "execution_count": 21,
      "id": "df3d6aac",
      "metadata": {
        "id": "df3d6aac",
        "colab": {
          "base_uri": "https://localhost:8080/"
        },
        "outputId": "7996a839-f217-47b7-c6c2-60e2e7ee12d8"
      },
      "outputs": [
        {
          "output_type": "stream",
          "name": "stdout",
          "text": [
            "+----------+\n",
            "|max(delay)|\n",
            "+----------+\n",
            "|      1642|\n",
            "+----------+\n",
            "\n"
          ]
        }
      ],
      "source": [
        "graph.edges.groupBy().max(\"delay\").show()"
      ]
    },
    {
      "cell_type": "markdown",
      "id": "202d888c",
      "metadata": {
        "id": "202d888c"
      },
      "source": [
        "### Find out the number of delayed flights vs. early flights (flights that departed before actual time)"
      ]
    },
    {
      "cell_type": "code",
      "execution_count": 24,
      "id": "7cdd7ff7",
      "metadata": {
        "id": "7cdd7ff7",
        "colab": {
          "base_uri": "https://localhost:8080/"
        },
        "outputId": "78040898-26d2-4fa5-a051-2462bbeefc57"
      },
      "outputs": [
        {
          "output_type": "stream",
          "name": "stdout",
          "text": [
            "number of Early Flights: 668729\n",
            "number of Delayed Flights: 591727\n"
          ]
        }
      ],
      "source": [
        "print (\"number of Early Flights: %d\" % graph.edges.filter(\"delay < 0\").count())\n",
        "print (\"number of Delayed Flights: %d\" % graph.edges.filter(\"delay > 0\").count())"
      ]
    },
    {
      "cell_type": "markdown",
      "id": "30961bc3",
      "metadata": {
        "id": "30961bc3"
      },
      "source": [
        "### What flight destinations departing SFO are most likely to have significant delays? Select the top 10\n",
        "#### Hint: you should get the average delay for each destination for trips that depart from SFO only"
      ]
    },
    {
      "cell_type": "code",
      "execution_count": 25,
      "id": "afdc6842",
      "metadata": {
        "id": "afdc6842",
        "colab": {
          "base_uri": "https://localhost:8080/"
        },
        "outputId": "e0dd6afd-13f4-4977-e1ab-0dedfc3a70c6"
      },
      "outputs": [
        {
          "output_type": "stream",
          "name": "stdout",
          "text": [
            "+---+---+------------------+\n",
            "|src|dst|        avg(delay)|\n",
            "+---+---+------------------+\n",
            "|SFO|OKC|59.073170731707314|\n",
            "|SFO|JAC| 57.13333333333333|\n",
            "|SFO|COS|53.976190476190474|\n",
            "|SFO|OTH| 48.09090909090909|\n",
            "|SFO|SAT|            47.625|\n",
            "|SFO|MOD| 46.80952380952381|\n",
            "|SFO|SUN|46.723404255319146|\n",
            "|SFO|CIC| 46.72164948453608|\n",
            "|SFO|ABQ|           44.8125|\n",
            "|SFO|ASE|44.285714285714285|\n",
            "+---+---+------------------+\n",
            "only showing top 10 rows\n",
            "\n"
          ]
        }
      ],
      "source": [
        "graph.edges\\\n",
        "  .filter(\"src = 'SFO' and delay > 0\")\\\n",
        "  .groupBy(\"src\", \"dst\")\\\n",
        "  .avg(\"delay\")\\\n",
        "  .sort(desc(\"avg(delay)\"))\\\n",
        "  .show(10)"
      ]
    },
    {
      "cell_type": "markdown",
      "id": "71d46665",
      "metadata": {
        "id": "71d46665"
      },
      "source": [
        "### Find the Incoming connections to the airport sorted in Desc. order."
      ]
    },
    {
      "cell_type": "code",
      "execution_count": 28,
      "id": "c28925c3",
      "metadata": {
        "id": "c28925c3",
        "colab": {
          "base_uri": "https://localhost:8080/"
        },
        "outputId": "f7f78a77-cb87-46f1-ef3f-16d594460f00"
      },
      "outputs": [
        {
          "output_type": "stream",
          "name": "stdout",
          "text": [
            "+---+--------+\n",
            "| id|inDegree|\n",
            "+---+--------+\n",
            "|ATL|   90434|\n",
            "|DFW|   66050|\n",
            "|ORD|   61967|\n",
            "|LAX|   53601|\n",
            "|DEN|   50921|\n",
            "|IAH|   42700|\n",
            "|PHX|   39721|\n",
            "|SFO|   38988|\n",
            "|LAS|   32994|\n",
            "|CLT|   28388|\n",
            "|MCO|   27959|\n",
            "|EWR|   27652|\n",
            "|LGA|   25469|\n",
            "|BOS|   25360|\n",
            "|SLC|   25323|\n",
            "|JFK|   23484|\n",
            "|DTW|   23310|\n",
            "|SEA|   23074|\n",
            "|MSP|   22385|\n",
            "|MIA|   21805|\n",
            "+---+--------+\n",
            "\n"
          ]
        }
      ],
      "source": [
        "graph.inDegrees.sort(desc(\"inDegree\")).limit(20).show()"
      ]
    },
    {
      "cell_type": "markdown",
      "id": "d1b6509d",
      "metadata": {
        "id": "d1b6509d"
      },
      "source": [
        "### Find the Outgoing connections from the airport sorted in Desc. order."
      ]
    },
    {
      "cell_type": "code",
      "execution_count": 29,
      "id": "631af51d",
      "metadata": {
        "id": "631af51d",
        "colab": {
          "base_uri": "https://localhost:8080/"
        },
        "outputId": "8d3febaf-d530-411a-a20a-1647ba22e6a2"
      },
      "outputs": [
        {
          "output_type": "stream",
          "name": "stdout",
          "text": [
            "+---+---------+\n",
            "| id|outDegree|\n",
            "+---+---------+\n",
            "|ATL|    91484|\n",
            "|DFW|    68482|\n",
            "|ORD|    64228|\n",
            "|LAX|    54086|\n",
            "|DEN|    53148|\n",
            "|IAH|    43361|\n",
            "|PHX|    40155|\n",
            "|SFO|    39483|\n",
            "|LAS|    33107|\n",
            "|CLT|    28402|\n",
            "|MCO|    28313|\n",
            "|EWR|    27656|\n",
            "|SLC|    25868|\n",
            "|LGA|    25458|\n",
            "|BOS|    25348|\n",
            "|MSP|    24031|\n",
            "|JFK|    23572|\n",
            "|DTW|    23421|\n",
            "|SEA|    23078|\n",
            "|MIA|    21817|\n",
            "+---+---------+\n",
            "\n"
          ]
        }
      ],
      "source": [
        "graph.outDegrees.sort(desc(\"outDegree\")).limit(20).show()"
      ]
    },
    {
      "cell_type": "markdown",
      "id": "fbec58ce",
      "metadata": {
        "id": "fbec58ce"
      },
      "source": [
        "### Use motif finding to answer this question: which delays could we blame on SFO?\n",
        "#### Hint: this practically means that SFO is a transit station"
      ]
    },
    {
      "cell_type": "code",
      "execution_count": 31,
      "id": "db17f3df",
      "metadata": {
        "id": "db17f3df",
        "colab": {
          "base_uri": "https://localhost:8080/"
        },
        "outputId": "a64cd400-febf-4938-9ba4-d21ae11c72a8"
      },
      "outputs": [
        {
          "output_type": "stream",
          "name": "stdout",
          "text": [
            "+--------------------+--------------------+--------------------+--------------------+--------------------+\n",
            "|                   a|                  ab|                   b|                  bc|                   c|\n",
            "+--------------------+--------------------+--------------------+--------------------+--------------------+\n",
            "|[Albuquerque, NM,...|[1020600, 0, 779,...|[San Francisco, C...|[1021507, 536, 22...|[New York, NY, US...|\n",
            "|[Albuquerque, NM,...|[1210815, -12, 77...|[San Francisco, C...|[1211508, 593, 22...|[New York, NY, US...|\n",
            "|[Eureka, CA, USA,...|[1011635, -15, 21...|[San Francisco, C...|[1021507, 536, 22...|[New York, NY, US...|\n",
            "|[Eureka, CA, USA,...|[1012016, -4, 217...|[San Francisco, C...|[1021507, 536, 22...|[New York, NY, US...|\n",
            "|[Eureka, CA, USA,...|[1020531, -2, 217...|[San Francisco, C...|[1021507, 536, 22...|[New York, NY, US...|\n",
            "|[Eureka, CA, USA,...|[1020948, -11, 21...|[San Francisco, C...|[1021507, 536, 22...|[New York, NY, US...|\n",
            "|[Eureka, CA, USA,...|[1021506, -3, 217...|[San Francisco, C...|[1021507, 536, 22...|[New York, NY, US...|\n",
            "|[Eureka, CA, USA,...|[1021318, -9, 217...|[San Francisco, C...|[1021507, 536, 22...|[New York, NY, US...|\n",
            "|[Eureka, CA, USA,...|[1020837, 12, 217...|[San Francisco, C...|[1021507, 536, 22...|[New York, NY, US...|\n",
            "|[Eureka, CA, USA,...|[1201703, -10, 21...|[San Francisco, C...|[1211508, 593, 22...|[New York, NY, US...|\n",
            "|[Eureka, CA, USA,...|[1210545, 0, 217,...|[San Francisco, C...|[1211508, 593, 22...|[New York, NY, US...|\n",
            "|[Eureka, CA, USA,...|[1211503, -10, 21...|[San Francisco, C...|[1211508, 593, 22...|[New York, NY, US...|\n",
            "|[Eureka, CA, USA,...|[1210948, 28, 217...|[San Francisco, C...|[1211508, 593, 22...|[New York, NY, US...|\n",
            "|[Eureka, CA, USA,...|[1211316, 9, 217,...|[San Francisco, C...|[1211508, 593, 22...|[New York, NY, US...|\n",
            "|[Eureka, CA, USA,...|[1210838, 91, 217...|[San Francisco, C...|[1211508, 593, 22...|[New York, NY, US...|\n",
            "|[Anchorage, AK, U...|[1012330, -4, 175...|[San Francisco, C...|[1021507, 536, 22...|[New York, NY, US...|\n",
            "|[Atlanta, GA, USA...|[1012130, 24, 185...|[San Francisco, C...|[1021507, 536, 22...|[New York, NY, US...|\n",
            "|[Atlanta, GA, USA...|[1011625, 6, 1859...|[San Francisco, C...|[1021507, 536, 22...|[New York, NY, US...|\n",
            "|[Atlanta, GA, USA...|[1021106, 26, 185...|[San Francisco, C...|[1021507, 536, 22...|[New York, NY, US...|\n",
            "|[Atlanta, GA, USA...|[1020944, 7, 1859...|[San Francisco, C...|[1021507, 536, 22...|[New York, NY, US...|\n",
            "+--------------------+--------------------+--------------------+--------------------+--------------------+\n",
            "only showing top 20 rows\n",
            "\n"
          ]
        }
      ],
      "source": [
        "motifs = graph.find(\"(a)-[ab]->(b); (b)-[bc]->(c)\")\\\n",
        "  .filter(\"(b.id = 'SFO') and (ab.delay > 500 or bc.delay > 500) and bc.tripid > ab.tripid and bc.tripid < ab.tripid + 10000\")\n",
        "motifs.show()"
      ]
    },
    {
      "cell_type": "markdown",
      "id": "cc1ece96",
      "metadata": {
        "id": "cc1ece96"
      },
      "source": [
        "### Determine Airport Ranking in Desc. order using PageRank algorithm"
      ]
    },
    {
      "cell_type": "code",
      "execution_count": 30,
      "id": "f754d545",
      "metadata": {
        "id": "f754d545"
      },
      "outputs": [],
      "source": [
        "ranks = graph.pageRank(resetProbability=0.15, maxIter=5)"
      ]
    },
    {
      "cell_type": "code",
      "source": [
        "ranks.vertices.orderBy(ranks.vertices.pagerank.desc()).limit(10).show()"
      ],
      "metadata": {
        "colab": {
          "base_uri": "https://localhost:8080/"
        },
        "id": "5Q5FqaFIpD_v",
        "outputId": "cee8d160-87a3-4442-d24b-5c0976c718ae"
      },
      "id": "5Q5FqaFIpD_v",
      "execution_count": 32,
      "outputs": [
        {
          "output_type": "stream",
          "name": "stdout",
          "text": [
            "+--------------+-----+-------+---+------------------+\n",
            "|          City|State|Country| id|          pagerank|\n",
            "+--------------+-----+-------+---+------------------+\n",
            "|       Atlanta|   GA|    USA|ATL|30.852689637281415|\n",
            "|        Dallas|   TX|    USA|DFW| 22.35090825185797|\n",
            "|       Chicago|   IL|    USA|ORD|21.476110490648225|\n",
            "|        Denver|   CO|    USA|DEN|15.864147080276451|\n",
            "|   Los Angeles|   CA|    USA|LAX|14.200409160093676|\n",
            "|       Houston|   TX|    USA|IAH|13.038206739080561|\n",
            "| San Francisco|   CA|    USA|SFO|11.262952692947371|\n",
            "|       Phoenix|   AZ|    USA|PHX| 10.61464841238288|\n",
            "|Salt Lake City|   UT|    USA|SLC|  9.46228920900108|\n",
            "|     Las Vegas|   NV|    USA|LAS| 8.571473320234631|\n",
            "+--------------+-----+-------+---+------------------+\n",
            "\n"
          ]
        }
      ]
    },
    {
      "cell_type": "markdown",
      "id": "fe1e7648",
      "metadata": {
        "id": "fe1e7648"
      },
      "source": [
        "## Determine the most popular flights (single city hops)"
      ]
    },
    {
      "cell_type": "code",
      "execution_count": 33,
      "id": "da4b3306",
      "metadata": {
        "id": "da4b3306"
      },
      "outputs": [],
      "source": [
        "from pyspark.sql.functions import *\n",
        "popular = graph \\\n",
        "  .edges \\\n",
        "  .groupBy(\"src\", \"dst\") \\\n",
        "  .agg(count(\"delay\").alias(\"trips\")) "
      ]
    },
    {
      "cell_type": "code",
      "source": [
        "popular.orderBy(popular.trips.desc()).limit(10).show()"
      ],
      "metadata": {
        "colab": {
          "base_uri": "https://localhost:8080/"
        },
        "id": "pqhr7uIcpNkl",
        "outputId": "04f75279-689f-46a5-fa12-9c7ae697f16f"
      },
      "id": "pqhr7uIcpNkl",
      "execution_count": 34,
      "outputs": [
        {
          "output_type": "stream",
          "name": "stdout",
          "text": [
            "+---+---+-----+\n",
            "|src|dst|trips|\n",
            "+---+---+-----+\n",
            "|SFO|LAX| 3232|\n",
            "|LAX|SFO| 3198|\n",
            "|LAS|LAX| 3016|\n",
            "|LAX|LAS| 2964|\n",
            "|JFK|LAX| 2720|\n",
            "|LAX|JFK| 2719|\n",
            "|ATL|LGA| 2501|\n",
            "|LGA|ATL| 2500|\n",
            "|LAX|PHX| 2394|\n",
            "|PHX|LAX| 2387|\n",
            "+---+---+-----+\n",
            "\n"
          ]
        }
      ]
    }
  ],
  "metadata": {
    "kernelspec": {
      "display_name": "Python 3 (ipykernel)",
      "language": "python",
      "name": "python3"
    },
    "language_info": {
      "codemirror_mode": {
        "name": "ipython",
        "version": 3
      },
      "file_extension": ".py",
      "mimetype": "text/x-python",
      "name": "python",
      "nbconvert_exporter": "python",
      "pygments_lexer": "ipython3",
      "version": "3.9.12"
    },
    "colab": {
      "name": "GraphFrams_P_S__Student.ipynb",
      "provenance": [],
      "collapsed_sections": []
    }
  },
  "nbformat": 4,
  "nbformat_minor": 5
}