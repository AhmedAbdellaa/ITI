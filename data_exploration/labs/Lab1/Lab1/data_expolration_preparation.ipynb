{
 "cells": [
  {
   "cell_type": "code",
   "execution_count": 74,
   "id": "d7ad3c52",
   "metadata": {},
   "outputs": [],
   "source": [
    "from selenium import webdriver\n",
    "from selenium.webdriver.common.keys import Keys\n",
    "from selenium.webdriver.common.by import By\n",
    "import pandas as pd\n",
    "#players names, rank, number of goals, and their nationalities\n",
    "#  \n",
    "xpath='//td[@scopr=\"row\"]| //td[@class=\"rank\"] | //td[@class=\"mainStat text-centre\"]| //span[@class=\"playerCountry\"] '\n",
    "driver = webdriver.Chrome()\n",
    "#exit premier laeague window\n",
    "\n",
    "\n",
    "driver.get('https://www.premierleague.com/stats/top/players/goals?se=-1')  \n",
    " \n",
    "#sleep(50000)\n",
    "\n",
    "#players_names = driver.find_elements(By.XPATH, xpath)"
   ]
  },
  {
   "cell_type": "code",
   "execution_count": 77,
   "id": "8379879b",
   "metadata": {},
   "outputs": [],
   "source": [
    "players_names = driver.find_elements(By.XPATH,xpath)"
   ]
  },
  {
   "cell_type": "code",
   "execution_count": 78,
   "id": "41ec8698",
   "metadata": {},
   "outputs": [
    {
     "name": "stdout",
     "output_type": "stream",
     "text": [
      "first_player full info <selenium.webdriver.remote.webelement.WebElement (session=\"2739cc314b7393809c005df45a2361e8\", element=\"4c6f7925-0cb6-416f-8750-d476f2968287\")>\n",
      "first_player 1\n",
      "['1', 'Alan Shearer', 'England', '', '2', 'Wayne Rooney', 'England', '', '3', 'Andrew Cole', 'England', '', '4', 'Sergio Agüero', 'Argentina', '', '5', 'Frank Lampard', 'England', '', '6', 'Thierry Henry', 'France', '', '7', 'Harry Kane', 'England', '', '8', 'Robbie Fowler', 'England', '', '9', 'Jermain Defoe', 'England', '', '10', 'Michael Owen', 'England', '', '11', 'Les Ferdinand', 'England', '', '12', 'Teddy Sheringham', 'England', '', '13', 'Robin van Persie', 'Netherlands', '', '14', 'Jimmy Floyd Hasselbaink', 'Netherlands', '', '14', 'Jamie Vardy', 'England', '', '16', 'Robbie Keane', 'Ireland', '', '17', 'Nicolas Anelka', 'France', '', '18', 'Dwight Yorke', 'Trinidad & Tobago', '', '19', 'Steven Gerrard', 'England', '', '20', 'Romelu Lukaku', 'Belgium', '']\n"
     ]
    }
   ],
   "source": [
    "print(\"first_player full info\", players_names[0])\n",
    "print(\"first_player\", players_names[0].text)\n",
    "players_list = []\n",
    "for p in range(0,len(players_names)):\n",
    "    players_list.append(players_names[p].text)\n",
    "#players_list = players_list[2:]\n",
    "print(players_list) \n",
    "#driver.close()"
   ]
  },
  {
   "cell_type": "code",
   "execution_count": 104,
   "id": "393163f6",
   "metadata": {},
   "outputs": [
    {
     "name": "stdout",
     "output_type": "stream",
     "text": [
      "['1' 'Alan Shearer' 'England' '' '2' 'Wayne Rooney' 'England' '' '3'\n",
      " 'Andrew Cole' 'England' '' '4' 'Sergio Agüero' 'Argentina' '' '5'\n",
      " 'Frank Lampard' 'England' '' '6' 'Thierry Henry' 'France' '' '7'\n",
      " 'Harry Kane' 'England' '' '8' 'Robbie Fowler' 'England' '' '9'\n",
      " 'Jermain Defoe' 'England' '' '10' 'Michael Owen' 'England' '' '11'\n",
      " 'Les Ferdinand' 'England' '' '12' 'Teddy Sheringham' 'England' '' '13'\n",
      " 'Robin van Persie' 'Netherlands' '' '14' 'Jimmy Floyd Hasselbaink'\n",
      " 'Netherlands' '' '14' 'Jamie Vardy' 'England' '' '16' 'Robbie Keane'\n",
      " 'Ireland' '' '17' 'Nicolas Anelka' 'France' '' '18' 'Dwight Yorke'\n",
      " 'Trinidad & Tobago' '' '19' 'Steven Gerrard' 'England' '' '20'\n",
      " 'Romelu Lukaku' 'Belgium' '']\n",
      "[['1' 'Alan Shearer' 'England' '']\n",
      " ['2' 'Wayne Rooney' 'England' '']\n",
      " ['3' 'Andrew Cole' 'England' '']\n",
      " ['4' 'Sergio Agüero' 'Argentina' '']\n",
      " ['5' 'Frank Lampard' 'England' '']\n",
      " ['6' 'Thierry Henry' 'France' '']\n",
      " ['7' 'Harry Kane' 'England' '']\n",
      " ['8' 'Robbie Fowler' 'England' '']\n",
      " ['9' 'Jermain Defoe' 'England' '']\n",
      " ['10' 'Michael Owen' 'England' '']\n",
      " ['11' 'Les Ferdinand' 'England' '']\n",
      " ['12' 'Teddy Sheringham' 'England' '']\n",
      " ['13' 'Robin van Persie' 'Netherlands' '']\n",
      " ['14' 'Jimmy Floyd Hasselbaink' 'Netherlands' '']\n",
      " ['14' 'Jamie Vardy' 'England' '']\n",
      " ['16' 'Robbie Keane' 'Ireland' '']\n",
      " ['17' 'Nicolas Anelka' 'France' '']\n",
      " ['18' 'Dwight Yorke' 'Trinidad & Tobago' '']\n",
      " ['19' 'Steven Gerrard' 'England' '']\n",
      " ['20' 'Romelu Lukaku' 'Belgium' '']]\n"
     ]
    }
   ],
   "source": [
    "#df = pd.DataFrame(columns=['Rank','name','country','stat'])\n",
    "\n",
    "import numpy as np\n",
    "arr =np.array(players_list)\n",
    "print(arr)\n",
    "arr= arr.reshape((-1,4))\n",
    "df = pd.DataFrame(data=arr, columns=['Rank','name','country','stat']) # creates dataframe of each tuple in list\n",
    "\n",
    "print(arr)"
   ]
  },
  {
   "cell_type": "code",
   "execution_count": 105,
   "id": "b3798ea9",
   "metadata": {},
   "outputs": [
    {
     "name": "stdout",
     "output_type": "stream",
     "text": [
      "<class 'pandas.core.frame.DataFrame'>\n",
      "RangeIndex: 20 entries, 0 to 19\n",
      "Data columns (total 4 columns):\n",
      " #   Column   Non-Null Count  Dtype \n",
      "---  ------   --------------  ----- \n",
      " 0   Rank     20 non-null     object\n",
      " 1   name     20 non-null     object\n",
      " 2   country  20 non-null     object\n",
      " 3   stat     20 non-null     object\n",
      "dtypes: object(4)\n",
      "memory usage: 768.0+ bytes\n"
     ]
    }
   ],
   "source": [
    "df.info()\n",
    "df.to_csv(\"players_names.csv\", header=True, index=False)"
   ]
  },
  {
   "cell_type": "code",
   "execution_count": 106,
   "id": "630bc58f",
   "metadata": {},
   "outputs": [],
   "source": [
    "driver.close()"
   ]
  },
  {
   "cell_type": "code",
   "execution_count": 107,
   "id": "c625b269",
   "metadata": {
    "scrolled": true
   },
   "outputs": [
    {
     "name": "stdout",
     "output_type": "stream",
     "text": [
      "<class 'pandas.core.frame.DataFrame'>\n",
      "RangeIndex: 21 entries, 0 to 20\n",
      "Data columns (total 9 columns):\n",
      " #   Column           Non-Null Count  Dtype  \n",
      "---  ------           --------------  -----  \n",
      " 0   Name             21 non-null     object \n",
      " 1   Height_cm        21 non-null     int64  \n",
      " 2   Appearances      21 non-null     int64  \n",
      " 3   Wins             21 non-null     int64  \n",
      " 4   Losses           21 non-null     int64  \n",
      " 5   Goals_per_match  21 non-null     float64\n",
      " 6   Assists          21 non-null     int64  \n",
      " 7   Yellow_cards     21 non-null     int64  \n",
      " 8   Red_cards        21 non-null     int64  \n",
      "dtypes: float64(1), int64(7), object(1)\n",
      "memory usage: 1.6+ KB\n"
     ]
    }
   ],
   "source": [
    "import pandas as pd\n",
    "df = pd.read_json ('players_stats.json')\n",
    "df.info()\n",
    "df.head()\n",
    "df.to_csv ('data_out.csv', index = None)"
   ]
  },
  {
   "cell_type": "code",
   "execution_count": null,
   "id": "8eeaba6e",
   "metadata": {},
   "outputs": [],
   "source": []
  }
 ],
 "metadata": {
  "kernelspec": {
   "display_name": "Python 3 (ipykernel)",
   "language": "python",
   "name": "python3"
  },
  "language_info": {
   "codemirror_mode": {
    "name": "ipython",
    "version": 3
   },
   "file_extension": ".py",
   "mimetype": "text/x-python",
   "name": "python",
   "nbconvert_exporter": "python",
   "pygments_lexer": "ipython3",
   "version": "3.9.7"
  }
 },
 "nbformat": 4,
 "nbformat_minor": 5
}
