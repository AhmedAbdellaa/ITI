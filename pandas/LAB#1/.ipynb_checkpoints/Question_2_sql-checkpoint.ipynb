{
 "cells": [
  {
   "cell_type": "markdown",
   "id": "1ed7474c",
   "metadata": {},
   "source": [
    "## 1- connect to database"
   ]
  },
  {
   "cell_type": "code",
   "execution_count": 1,
   "id": "1f6bf60f",
   "metadata": {},
   "outputs": [],
   "source": [
    "import psycopg2\n",
    "\n",
    "# Connection parameters, yours will be different\n",
    "params_dic = {\n",
    "    \"host\"      : \"localhost\",\n",
    "    \"database\"  : \"postgres\",\n",
    "    \"user\"      : \"postgres\",\n",
    "    \"password\"  : \"admin\"\n",
    "}\n",
    "\n",
    "conn = psycopg2.connect(**params_dic)\n",
    "cur = conn.cursor()"
   ]
  },
  {
   "cell_type": "markdown",
   "id": "e19897ec",
   "metadata": {},
   "source": [
    "## 2-excute select query "
   ]
  },
  {
   "cell_type": "code",
   "execution_count": 2,
   "id": "1b31f8a4",
   "metadata": {},
   "outputs": [],
   "source": [
    "cur.execute(\"\"\"SELECT c.company_name , c.city ,c.country , Count(o.*)  as orders_count\n",
    "                from customers c left outer join orders o \n",
    "                on c.customer_id = o.customer_id\n",
    "                group by c.customer_id\n",
    "                order by count(o.*);\n",
    "                \"\"\")\n",
    "resultList = cur.fetchall()"
   ]
  },
  {
   "cell_type": "markdown",
   "id": "ec7bdc43",
   "metadata": {},
   "source": [
    "## 3-create dataframe from sql (listofTuble)"
   ]
  },
  {
   "cell_type": "code",
   "execution_count": 3,
   "id": "6d111d59",
   "metadata": {},
   "outputs": [
    {
     "data": {
      "text/html": [
       "<div>\n",
       "<style scoped>\n",
       "    .dataframe tbody tr th:only-of-type {\n",
       "        vertical-align: middle;\n",
       "    }\n",
       "\n",
       "    .dataframe tbody tr th {\n",
       "        vertical-align: top;\n",
       "    }\n",
       "\n",
       "    .dataframe thead th {\n",
       "        text-align: right;\n",
       "    }\n",
       "</style>\n",
       "<table border=\"1\" class=\"dataframe\">\n",
       "  <thead>\n",
       "    <tr style=\"text-align: right;\">\n",
       "      <th></th>\n",
       "      <th>company_name</th>\n",
       "      <th>city</th>\n",
       "      <th>country</th>\n",
       "      <th>Count</th>\n",
       "    </tr>\n",
       "  </thead>\n",
       "  <tbody>\n",
       "    <tr>\n",
       "      <th>0</th>\n",
       "      <td>FISSA Fabrica Inter. Salchichas S.A.</td>\n",
       "      <td>Madrid</td>\n",
       "      <td>Spain</td>\n",
       "      <td>0</td>\n",
       "    </tr>\n",
       "    <tr>\n",
       "      <th>1</th>\n",
       "      <td>Paris spécialités</td>\n",
       "      <td>Paris</td>\n",
       "      <td>France</td>\n",
       "      <td>0</td>\n",
       "    </tr>\n",
       "    <tr>\n",
       "      <th>2</th>\n",
       "      <td>Centro comercial Moctezuma</td>\n",
       "      <td>México D.F.</td>\n",
       "      <td>Mexico</td>\n",
       "      <td>1</td>\n",
       "    </tr>\n",
       "    <tr>\n",
       "      <th>3</th>\n",
       "      <td>GROSELLA-Restaurante</td>\n",
       "      <td>Caracas</td>\n",
       "      <td>Venezuela</td>\n",
       "      <td>2</td>\n",
       "    </tr>\n",
       "    <tr>\n",
       "      <th>4</th>\n",
       "      <td>Lazy K Kountry Store</td>\n",
       "      <td>Walla Walla</td>\n",
       "      <td>USA</td>\n",
       "      <td>2</td>\n",
       "    </tr>\n",
       "    <tr>\n",
       "      <th>...</th>\n",
       "      <td>...</td>\n",
       "      <td>...</td>\n",
       "      <td>...</td>\n",
       "      <td>...</td>\n",
       "    </tr>\n",
       "    <tr>\n",
       "      <th>86</th>\n",
       "      <td>Hungry Owl All-Night Grocers</td>\n",
       "      <td>Cork</td>\n",
       "      <td>Ireland</td>\n",
       "      <td>19</td>\n",
       "    </tr>\n",
       "    <tr>\n",
       "      <th>87</th>\n",
       "      <td>Folk och fä HB</td>\n",
       "      <td>Bräcke</td>\n",
       "      <td>Sweden</td>\n",
       "      <td>19</td>\n",
       "    </tr>\n",
       "    <tr>\n",
       "      <th>88</th>\n",
       "      <td>QUICK-Stop</td>\n",
       "      <td>Cunewalde</td>\n",
       "      <td>Germany</td>\n",
       "      <td>28</td>\n",
       "    </tr>\n",
       "    <tr>\n",
       "      <th>89</th>\n",
       "      <td>Ernst Handel</td>\n",
       "      <td>Graz</td>\n",
       "      <td>Austria</td>\n",
       "      <td>30</td>\n",
       "    </tr>\n",
       "    <tr>\n",
       "      <th>90</th>\n",
       "      <td>Save-a-lot Markets</td>\n",
       "      <td>Boise</td>\n",
       "      <td>USA</td>\n",
       "      <td>31</td>\n",
       "    </tr>\n",
       "  </tbody>\n",
       "</table>\n",
       "<p>91 rows × 4 columns</p>\n",
       "</div>"
      ],
      "text/plain": [
       "                            company_name         city    country  Count\n",
       "0   FISSA Fabrica Inter. Salchichas S.A.       Madrid      Spain      0\n",
       "1                      Paris spécialités        Paris     France      0\n",
       "2             Centro comercial Moctezuma  México D.F.     Mexico      1\n",
       "3                   GROSELLA-Restaurante      Caracas  Venezuela      2\n",
       "4                   Lazy K Kountry Store  Walla Walla        USA      2\n",
       "..                                   ...          ...        ...    ...\n",
       "86          Hungry Owl All-Night Grocers         Cork    Ireland     19\n",
       "87                        Folk och fä HB       Bräcke     Sweden     19\n",
       "88                            QUICK-Stop    Cunewalde    Germany     28\n",
       "89                          Ernst Handel         Graz    Austria     30\n",
       "90                    Save-a-lot Markets        Boise        USA     31\n",
       "\n",
       "[91 rows x 4 columns]"
      ]
     },
     "execution_count": 3,
     "metadata": {},
     "output_type": "execute_result"
    }
   ],
   "source": [
    "import pandas as pd\n",
    "df = pd.DataFrame(resultList,  columns=[\"company_name\" ,\"city\", \"country\",\"Count\"])\n",
    "df"
   ]
  },
  {
   "cell_type": "code",
   "execution_count": 4,
   "id": "cd74454d",
   "metadata": {},
   "outputs": [
    {
     "data": {
      "text/html": [
       "<div>\n",
       "<style scoped>\n",
       "    .dataframe tbody tr th:only-of-type {\n",
       "        vertical-align: middle;\n",
       "    }\n",
       "\n",
       "    .dataframe tbody tr th {\n",
       "        vertical-align: top;\n",
       "    }\n",
       "\n",
       "    .dataframe thead th {\n",
       "        text-align: right;\n",
       "    }\n",
       "</style>\n",
       "<table border=\"1\" class=\"dataframe\">\n",
       "  <thead>\n",
       "    <tr style=\"text-align: right;\">\n",
       "      <th></th>\n",
       "      <th>company_name</th>\n",
       "      <th>city</th>\n",
       "      <th>country</th>\n",
       "      <th>Count</th>\n",
       "    </tr>\n",
       "  </thead>\n",
       "  <tbody>\n",
       "    <tr>\n",
       "      <th>0</th>\n",
       "      <td>FISSA Fabrica Inter. Salchichas S.A.</td>\n",
       "      <td>Madrid</td>\n",
       "      <td>Spain</td>\n",
       "      <td>0</td>\n",
       "    </tr>\n",
       "    <tr>\n",
       "      <th>1</th>\n",
       "      <td>Paris spécialités</td>\n",
       "      <td>Paris</td>\n",
       "      <td>France</td>\n",
       "      <td>0</td>\n",
       "    </tr>\n",
       "  </tbody>\n",
       "</table>\n",
       "</div>"
      ],
      "text/plain": [
       "                           company_name    city country  Count\n",
       "0  FISSA Fabrica Inter. Salchichas S.A.  Madrid   Spain      0\n",
       "1                     Paris spécialités   Paris  France      0"
      ]
     },
     "execution_count": 4,
     "metadata": {},
     "output_type": "execute_result"
    }
   ],
   "source": [
    "df[df.Count==0]"
   ]
  },
  {
   "cell_type": "code",
   "execution_count": null,
   "id": "64b9f664",
   "metadata": {},
   "outputs": [],
   "source": []
  }
 ],
 "metadata": {
  "kernelspec": {
   "display_name": "Python 3 (ipykernel)",
   "language": "python",
   "name": "python3"
  },
  "language_info": {
   "codemirror_mode": {
    "name": "ipython",
    "version": 3
   },
   "file_extension": ".py",
   "mimetype": "text/x-python",
   "name": "python",
   "nbconvert_exporter": "python",
   "pygments_lexer": "ipython3",
   "version": "3.9.7"
  }
 },
 "nbformat": 4,
 "nbformat_minor": 5
}
